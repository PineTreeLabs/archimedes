{
 "cells": [
  {
   "cell_type": "code",
   "execution_count": 1,
   "id": "17c7d0b0",
   "metadata": {},
   "outputs": [],
   "source": [
    "# ruff: noqa: N802, N803, N806, N815, N816\n",
    "import os\n",
    "\n",
    "import numpy as np\n",
    "from scipy import signal\n",
    "\n",
    "# Simple utilities for displaying generated code in the notebook\n",
    "from utils import cleanup, display_text\n",
    "\n",
    "import archimedes as arc\n",
    "\n",
    "THEME = os.environ.get(\"ARCHIMEDES_THEME\", \"dark\")\n",
    "arc.theme.set_theme(THEME)"
   ]
  },
  {
   "cell_type": "markdown",
   "id": "b2d9f407",
   "metadata": {},
   "source": [
    "# Platform-specific deployment templates\n",
    "\n",
    "So far in this tutorial we have seen how Archimedes can leverage CasADi's code generator to translate pure Python functions to efficient C code.\n",
    "We then explored templated \"driver code\" generation and saw how auto-generated code can be customized using protected regions and template modifications.\n",
    "\n",
    "The final step on the road to hardware deployment is simply to change the driver template from the plain-C `main.c` generator to a platform-specific template.\n",
    "\n",
    "First, let's recap our example function: the IIR filter."
   ]
  },
  {
   "cell_type": "code",
   "execution_count": 2,
   "id": "8cf07b08",
   "metadata": {},
   "outputs": [],
   "source": [
    "# Optionally give descriptive names for return values (these don't need\n",
    "# to match the variable names)\n",
    "@arc.compile(return_names=[\"u_hist\", \"y_hist\"])\n",
    "def iir_filter(u, b, a, u_prev, y_prev):\n",
    "    # Update input history\n",
    "    u_prev[1:] = u_prev[:-1]\n",
    "    u_prev[0] = u\n",
    "\n",
    "    # Compute output using the direct II transposed structure\n",
    "    y = (np.dot(b, u_prev) - np.dot(a[1:], y_prev[: len(a) - 1])) / a[0]\n",
    "\n",
    "    # Update output history\n",
    "    y_prev[1:] = y_prev[:-1]\n",
    "    y_prev[0] = y\n",
    "\n",
    "    return u_prev, y_prev"
   ]
  },
  {
   "cell_type": "code",
   "execution_count": 4,
   "id": "33af8e8e",
   "metadata": {},
   "outputs": [],
   "source": [
    "# Design a simple IIR filter with SciPy\n",
    "dt = 0.01  # Sampling time [seconds]\n",
    "Wn = 10  # Cutoff frequency [Hz]\n",
    "order = 4\n",
    "b, a = signal.butter(order, Wn, \"low\", analog=False, fs=1 / dt)\n",
    "\n",
    "# Create \"template\" arguments for type inference\n",
    "u = 1.0\n",
    "u_prev = np.zeros(len(b))\n",
    "y_prev = np.zeros(len(a) - 1)\n",
    "args = (u, b, a, u_prev, y_prev)"
   ]
  },
  {
   "cell_type": "markdown",
   "id": "4682f940",
   "metadata": {},
   "source": [
    "As a simple example of hardware deployment, we'll target a garden-variety Arduino development board.\n",
    "The default template for Arduino requires that the sample rate in seconds be provided and sets up an ISR flag for relatively accurate loop timing."
   ]
  },
  {
   "cell_type": "code",
   "execution_count": null,
   "id": "b2c5fed1",
   "metadata": {},
   "outputs": [],
   "source": [
    "cleanup()  # Clean up any previous generated code\n",
    "\n",
    "driver_config = {\n",
    "    \"sample_rate\": dt,\n",
    "    \"output_path\": \"iir_driver.ino\",\n",
    "}\n",
    "\n",
    "arc.codegen(\n",
    "    iir_filter, \"iir_filter.c\", args, driver=\"arduino\", driver_config=driver_config\n",
    ")"
   ]
  },
  {
   "cell_type": "code",
   "execution_count": 6,
   "id": "53ba4df9",
   "metadata": {},
   "outputs": [
    {
     "data": {
      "text/markdown": [
       "```c\n",
       "#include <Arduino.h>\n",
       "#include <TimerOne.h>\n",
       "#include \"iir_filter.h\"\n",
       "\n",
       "// PROTECTED-REGION-START: imports\n",
       "// ... User-defined imports and includes\n",
       "// PROTECTED-REGION-END\n",
       "\n",
       "// Sampling rate: 100 Hz\n",
       "const unsigned long SAMPLE_RATE_US = 10000;\n",
       "\n",
       "// Allocate memory for inputs and outputs\n",
       "double u = 1.0;\n",
       "double b[5] = {0.004824343357716229, 0.019297373430864916, 0.028946060146297373, 0.019297373430864916, 0.004824343357716229};\n",
       "double a[5] = {1.0, -2.369513007182038, 2.313988414415881, -1.054665405878568, 0.18737949236818502};\n",
       "double u_prev[5] = {0.0, 0.0, 0.0, 0.0, 0.0};\n",
       "double y_prev[4] = {0.0, 0.0, 0.0, 0.0};\n",
       "\n",
       "double u_hist[5] = {0};\n",
       "double y_hist[4] = {0};\n",
       "\n",
       "// Prepare pointers to inputs, outputs, and work arrays\n",
       "const double* arg[iir_filter_SZ_ARG] = {0};\n",
       "double* res[iir_filter_SZ_RES] = {0};\n",
       "long long int iw[iir_filter_SZ_IW];\n",
       "double w[iir_filter_SZ_W];\n",
       "\n",
       "// Flag for interrupt timer\n",
       "volatile bool control_loop_flag = false;\n",
       "\n",
       "// PROTECTED-REGION-START: allocation\n",
       "// ... User-defined memory allocation and function declaration\n",
       "// PROTECTED-REGION-END\n",
       "\n",
       "// Timer interrupt handler\n",
       "void timerInterrupt() {\n",
       "    // PROTECTED-REGION-START: interrupt\n",
       "    // Set flag for main loop to run control function\n",
       "    control_loop_flag = true;\n",
       "    // PROTECTED-REGION-END\n",
       "}\n",
       "\n",
       "void setup(){\n",
       "    // Set up input and output pointers\n",
       "    arg[0] = &u;\n",
       "    arg[1] = b;\n",
       "    arg[2] = a;\n",
       "    arg[3] = u_prev;\n",
       "    arg[4] = y_prev;\n",
       "\n",
       "    res[0] = u_hist;\n",
       "    res[1] = y_hist;\n",
       "\n",
       "    // PROTECTED-REGION-START: setup\n",
       "    // ... User-defined setup code\n",
       "    Serial.begin(9600);\n",
       "    // PROTECTED-REGION-END\n",
       "\n",
       "    // Initialize Timer1 for interrupts at 100 Hz\n",
       "    Timer1.initialize(SAMPLE_RATE_US);\n",
       "    Timer1.attachInterrupt(timerInterrupt);\n",
       "}\n",
       "\n",
       "void loop() {\n",
       "    // Check if control loop should run (set by timer interrupt)\n",
       "    if (control_loop_flag) {\n",
       "        control_loop_flag = false;\n",
       "        \n",
       "        // PROTECTED-REGION-START: control_loop\n",
       "        // ... User-defined timed code\n",
       "        iir_filter(arg, res, iw, w, 0);\n",
       "        // PROTECTED-REGION-END\n",
       "    }\n",
       "    \n",
       "    // PROTECTED-REGION-START: loop\n",
       "    // ... User-defined non-time-critical tasks\n",
       "    delay(10);\n",
       "    // PROTECTED-REGION-END\n",
       "}\n",
       "```"
      ],
      "text/plain": [
       "<IPython.core.display.Markdown object>"
      ]
     },
     "metadata": {},
     "output_type": "display_data"
    }
   ],
   "source": [
    "with open(driver_config[\"output_path\"], \"r\") as f:\n",
    "    sketch = f.read()\n",
    "\n",
    "display_text(sketch)"
   ]
  },
  {
   "cell_type": "markdown",
   "id": "7208bda9",
   "metadata": {},
   "source": [
    "Of course, just as for the plain-C template, most applications will require some customization of this \"driver\" code.\n",
    "You might need to use a different timing pattern, declare pin configurations, interact with sensors and actuators, add communication, or include any other boilerplate your project needs.\n",
    "\n",
    "For simple modifications, you can once again edit the protected regions and your changes will be preserved when the code is re-generated.\n",
    "For more extensive or structural changes, you can simply copy the default template and modify it freely."
   ]
  },
  {
   "cell_type": "markdown",
   "id": "63cd38bd",
   "metadata": {},
   "source": [
    "## Conclusion\n",
    "\n",
    "In this tutorial we explored the mechanics of the Archimedes workflow for deploying your algorithms to embedded controllers.\n",
    "\n",
    "The basic underpinning for this process is CasADi's code generation tool, which generates a highly efficient C code representation of the computational graph.\n",
    "With this we can automatically translate most functions compatible with the [`compile`](#archimedes.compile) decorator to C code (some notable exceptions include calls to plugin solvers like IPOPT and SUNDIALS).\n",
    "\n",
    "However, the auto-generated function has a generic signature that requires specific memory configuration.\n",
    "To manage this without manual intervention, Archimedes also provides a templated \"driver\" code generation system.\n",
    "This process uses standard Jinja2 templates to declare and initialize all the variables used by your functions.\n",
    "In addition, the templating system provides \"protected regions\" in which you can modify the auto-generated code and have your changes preserved.\n",
    "\n",
    "The combination of customizable templates with the Python-to-C translation enables a powerful workflow where a project- and platform-specific template can be used to configure low-level computation like peripheral I/O and communication while the high-level control logic can be developed, simulated, tested, and automatically deployed into your driver code.\n",
    "\n",
    "In this workflow:\n",
    "\n",
    "1. Develop and test your algorithm in Python using Archimedes and NumPy\n",
    "2. Use `codegen` to generate the core algorithm and driver code\n",
    "3. Make hardware-specific customizations in the protected regions or driver template\n",
    "4. As you refine your algorithm in Python, regenerate the C code while preserving your customizations\n",
    "5. Compile and deploy to your target hardware\n",
    "\n",
    "This development cycle maintains a clean separation between algorithm development (in Python) and hardware-specific implementation details (in the protected regions of your C code).\n",
    "\n",
    "### Where to Go From Here\n",
    "\n",
    "As mentioned, this hardware deployment workflow is an early proof of concept, but it is central to the Archimedes roadmap. Planned developments include:\n",
    "\n",
    "- Support for more platforms (e.g. STM32, ESP32, Raspberry Pi)\n",
    "- Workflows for hardware-in-the-loop (HIL) testing\n",
    "- Performance optimizations like fixed-point arithmetic\n",
    "- Support for real-time constraints and multirate scheduling (RTOS)\n",
    "- Integration with static analysis tools for memory and executing time\n",
    "\n",
    "**If you're using Archimedes for hardware control and have questions, comments, or requests, please don't hesitate to reach out!**"
   ]
  }
 ],
 "metadata": {
  "kernelspec": {
   "display_name": "archimedes",
   "language": "python",
   "name": "archimedes"
  },
  "language_info": {
   "codemirror_mode": {
    "name": "ipython",
    "version": 3
   },
   "file_extension": ".py",
   "mimetype": "text/x-python",
   "name": "python",
   "nbconvert_exporter": "python",
   "pygments_lexer": "ipython3",
   "version": "3.12.9"
  }
 },
 "nbformat": 4,
 "nbformat_minor": 5
}
