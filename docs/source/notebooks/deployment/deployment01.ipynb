{
 "cells": [
  {
   "cell_type": "code",
   "execution_count": 16,
   "id": "dd401c6f",
   "metadata": {},
   "outputs": [],
   "source": [
    "# ruff: noqa: N802, N803, N806, N815, N816\n",
    "import os\n",
    "\n",
    "import matplotlib.pyplot as plt\n",
    "import numpy as np\n",
    "from scipy import signal\n",
    "\n",
    "# Simple utilities for displaying generated code in the notebook\n",
    "from utils import display_text\n",
    "\n",
    "import archimedes as arc\n",
    "\n",
    "THEME = os.environ.get(\"ARCHIMEDES_THEME\", \"dark\")\n",
    "arc.theme.set_theme(THEME)"
   ]
  },
  {
   "cell_type": "markdown",
   "id": "29e278a6",
   "metadata": {},
   "source": [
    "# Quickstart\n",
    "\n",
    "This section will walk through a \"Hello, World!\" example of C code generation and usage without getting into the details of the structure of the generated code.\n",
    "The remaining sections will expand on this same basic workflow so that you can build a deeper understanding of what is generated, why, and how to use it effectively."
   ]
  },
  {
   "cell_type": "markdown",
   "id": "408c570a",
   "metadata": {},
   "source": [
    "## Python implementation\n",
    "\n",
    "To keep this as simple as possible, we'll work with a Python implementation of the classic Fibonnaci sequence:"
   ]
  },
  {
   "cell_type": "code",
   "execution_count": 17,
   "id": "ee0a1b83",
   "metadata": {},
   "outputs": [
    {
     "name": "stdout",
     "output_type": "stream",
     "text": [
      "1\n",
      "1\n",
      "2\n",
      "3\n",
      "5\n",
      "8\n",
      "13\n",
      "21\n",
      "34\n",
      "55\n"
     ]
    }
   ],
   "source": [
    "def fib(a, b):\n",
    "    return b, a + b\n",
    "\n",
    "# Generate the first 10 Fibonacci numbers\n",
    "a, b = 0, 1\n",
    "for _ in range(10):\n",
    "    a, b = fib(a, b)\n",
    "    print(a)"
   ]
  },
  {
   "cell_type": "markdown",
   "id": "ad19fd98",
   "metadata": {},
   "source": [
    "## Converting to C code\n",
    "\n",
    "Next we generate a C implementation of the Python logic using the [`codegen`](#archimedes.codegen) function, including initial values of the inputs.  Note that we have to provide names for the output variables so that the generated code can use meaningful names."
   ]
  },
  {
   "cell_type": "code",
   "execution_count": 18,
   "id": "f0636888",
   "metadata": {},
   "outputs": [],
   "source": [
    "# Create \"template\" arguments for type inference\n",
    "# and initialization\n",
    "a, b = 0, 1\n",
    "\n",
    "arc.codegen(fib, (a, b), return_names=(\"a_new\", \"b_new\"))"
   ]
  },
  {
   "cell_type": "markdown",
   "id": "88517393",
   "metadata": {},
   "source": [
    "This will generate several files.  For our purposes in this quick start, the only one we need to look at is `fib.h`."
   ]
  },
  {
   "cell_type": "code",
   "execution_count": 19,
   "id": "8777ba37",
   "metadata": {},
   "outputs": [
    {
     "data": {
      "text/markdown": [
       "```c\n",
       "\n",
       "#ifndef FIB_H\n",
       "#define FIB_H\n",
       "\n",
       "#include \"fib_kernel.h\"\n",
       "\n",
       "#ifdef __cplusplus\n",
       "extern \"C\" {\n",
       "#endif\n",
       "\n",
       "// Input arguments struct\n",
       "typedef struct {\n",
       "    float a;    \n",
       "    float b;    \n",
       "} fib_arg_t;\n",
       "\n",
       "// Output results struct\n",
       "typedef struct {\n",
       "    float a_new;\n",
       "    float b_new;\n",
       "} fib_res_t;\n",
       "\n",
       "// Workspace struct\n",
       "typedef struct {\n",
       "    long int iw[fib_SZ_IW];\n",
       "    float w[fib_SZ_W];\n",
       "} fib_workspace_t;\n",
       "\n",
       "// Runtime API\n",
       "int fib_init(fib_arg_t* arg, fib_res_t* res, fib_workspace_t* workspace);\n",
       "int fib_step(fib_arg_t* arg, fib_res_t* res, fib_workspace_t* workspace);\n",
       "\n",
       "\n",
       "#ifdef __cplusplus\n",
       "}\n",
       "#endif\n",
       "\n",
       "#endif // FIB_H\n",
       "```"
      ],
      "text/plain": [
       "<IPython.core.display.Markdown object>"
      ]
     },
     "metadata": {},
     "output_type": "display_data"
    }
   ],
   "source": [
    "with open(\"fib.h\", \"r\") as f:\n",
    "    c_code = f.read()\n",
    "\n",
    "display_text(c_code)"
   ]
  },
  {
   "cell_type": "markdown",
   "id": "67c0664d",
   "metadata": {},
   "source": [
    "A few things to note about this implementation:\n",
    "\n",
    "* **Static allocation**: The generated code uses pre-allocated workspace memory instead of dynamic memory allocation, meaning no heap usage.\n",
    "\n",
    "* **Deterministic memory**: Requirements can be precisely calculated at compile time.\n",
    "\n",
    "* **Fixed-Size Arrays**: All array dimensions are determined at code generation time, ensuring predictable memory usage regardless of input data.\n",
    "\n",
    "* **No external dependencies**: The generated code is self-contained, simplifying the build process for deployment.\n",
    "\n",
    "In brief:\n",
    "\n",
    "| Python code | Generated C code |\n",
    "|-----------------|----------------------|\n",
    "| Dynamic memory allocation | Fixed, pre-allocated arrays |\n",
    "| High-level array operations | Low-level pointer manipulation |\n",
    "| Readable control flow | Optimized computational structure |\n",
    "| Generic function for any filter order | Specialized for specific dimensions |\n",
    "\n",
    "These details are critical for real-time and embedded applications.\n",
    "However, the price for this efficiency is that the implementation hardly resembles the original Python algorithm.\n",
    "This is why the automatic code generation paradigm is so helpful; the high-level algorithm can be modified in Python without the need for time-intensive re-coding the low-level C implementation.\n",
    "\n",
    "However, at this point we still have quite a bit of work ahead of us.\n",
    "In particular, we still need to:\n",
    "\n",
    "1. Create arrays for arguments, results, and working memory\n",
    "2. Map these to the pointers expected by the `iir_filter` implementation\n",
    "3. Initialize the arrays correctly\n",
    "\n",
    "If you examine the source code more carefully, you might even be surprised to see that the filter coefficients aren't even stored in the C code.\n",
    "We could of course use these as global variables in Python, which would effectively \"hardcode\" the filter coefficients into the generated C code, but it is cleaner and more maintainable to separate the coeffients from the actual filter implementation.\n",
    "\n",
    "This is where Archimedes builds on CasADi's powerful capabilities with its templated \"driver\" code generation system.\n",
    "In the next part of the tutorial we'll begin to explore this by auto-generating a plain-C \"main\" function."
   ]
  }
 ],
 "metadata": {
  "kernelspec": {
   "display_name": "archimedes",
   "language": "python",
   "name": "archimedes"
  },
  "language_info": {
   "codemirror_mode": {
    "name": "ipython",
    "version": 3
   },
   "file_extension": ".py",
   "mimetype": "text/x-python",
   "name": "python",
   "nbconvert_exporter": "python",
   "pygments_lexer": "ipython3",
   "version": "3.12.9"
  }
 },
 "nbformat": 4,
 "nbformat_minor": 5
}
