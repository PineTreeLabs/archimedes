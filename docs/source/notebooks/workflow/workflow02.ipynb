{
 "cells": [
  {
   "cell_type": "markdown",
   "id": "483264a0",
   "metadata": {},
   "source": [
    "# Characterizing the system\n",
    "\n",
    "In [Part 1](../../notebooks/workflow/workflow01.md) of this series we described the physical system, including an idealized physics model:\n",
    "\n",
    "```{image} _static/dc_motor.png\n",
    ":class: only-light\n",
    "```\n",
    "\n",
    "```{image} _static/dc_motor_dark.png\n",
    ":class: only-dark\n",
    "```\n",
    "\n",
    "$$\n",
    "\\begin{align*}\n",
    "L \\frac{di}{dt} &= V - iR - k_\\mathcal{E} \\omega \\\\\n",
    "J \\frac{d\\omega}{dt} &= G k_\\mathcal{E} i - b \\omega.\n",
    "\\end{align*}\n",
    "$$\n",
    "\n",
    "Our first job is to see how well this model matches reality.\n",
    "\n",
    "We will do this by collecting data from \"step\" and \"ramp\" response sequences using the real hardware and comparing to our idealized model.\n",
    "\n",
    "This task is made somewhat difficult by the fact that while some parameters (like resistance $R$ and gear ratio $G$) are directly measurable or known from a datasheet, others (like the back EMF constant $k_\\mathcal{E}$ or viscous friction $b$) are unknown.\n",
    "\n",
    "Depending on how many such unknown parameters there are and how sensitive the model is to them, it may be feasible to simply manually tune the parameters until the model matches the data as well as possible.\n",
    "A somewhat more automated approach is to sweep over parameters or perform a Monte Carlo search and simply pick the best of the candidate parameter sets.\n",
    "\n",
    "Obviously, both approaches becomes increasingly difficult for more complex systems with large numbers of parameters.\n",
    "Instead, we will use _parameter estimation_ to determine all the parameters at once as an optimization problem.\n",
    "For more background, see the [tutorial](../sysid/parameter-estimation.ipynb) on parameter estimation in Archimedes."
   ]
  },
  {
   "cell_type": "code",
   "execution_count": 1,
   "id": "70e70c81",
   "metadata": {},
   "outputs": [],
   "source": [
    "# ruff: noqa: N802, N803, N806, N815, N816\n",
    "import os\n",
    "\n",
    "import matplotlib.pyplot as plt\n",
    "import numpy as np\n",
    "\n",
    "import archimedes as arc\n",
    "from archimedes.docs.utils import extract_py_function, extract_py_class\n",
    "\n",
    "THEME = os.environ.get(\"ARCHIMEDES_THEME\", \"dark\")\n",
    "arc.theme.set_theme(THEME)"
   ]
  },
  {
   "cell_type": "markdown",
   "id": "7f3caa63",
   "metadata": {},
   "source": [
    "## Data collection\n",
    "\n",
    "The linearity of our model guarantees that very simple I/O data should suffice for fully characterizing the system.\n",
    "\n"
   ]
  },
  {
   "cell_type": "markdown",
   "id": "2d911315",
   "metadata": {},
   "source": [
    "## Model implementation"
   ]
  },
  {
   "cell_type": "code",
   "execution_count": 2,
   "id": "f7e49a57",
   "metadata": {},
   "outputs": [
    {
     "data": {
      "text/markdown": [
       "```python\n",
       "@struct.pytree_node\n",
       "class MotorParams:\n",
       "    m: float  # Effective mass/inertia\n",
       "    b: float  # Viscous friction\n",
       "    L: float  # Motor inductance [H]\n",
       "    R: float  # Motor resistance [Ohm]\n",
       "    Kt: float  # Current -> torque scale [N-m/A]\n",
       "\n",
       "    def asdict(self):\n",
       "        return dataclasses.asdict(self)\n",
       "```"
      ],
      "text/plain": [
       "<IPython.core.display.Markdown object>"
      ]
     },
     "metadata": {},
     "output_type": "display_data"
    }
   ],
   "source": [
    "extract_py_class(\"motor.py\", \"MotorParams\")"
   ]
  },
  {
   "cell_type": "code",
   "execution_count": 3,
   "id": "bd6cc284",
   "metadata": {},
   "outputs": [
    {
     "data": {
      "text/markdown": [
       "```python\n",
       "def motor_ode(\n",
       "    t: float, x: np.ndarray, u: np.ndarray, params: MotorParams\n",
       ") -> np.ndarray:\n",
       "    params = params.asdict()\n",
       "\n",
       "    i, _pos, vel = x\n",
       "    (V,) = u\n",
       "    m = params[\"m\"]  # Effective mass/inertia\n",
       "    b = params[\"b\"]  # Viscous friction\n",
       "    L = params[\"L\"]  # Motor inductance\n",
       "    Kt = params[\"Kt\"]  # Current -> torque scale\n",
       "    R = params[\"R\"]\n",
       "\n",
       "    Ke = Kt / GEAR_RATIO  # Velocity -> Back EMF scale\n",
       "\n",
       "    i_t = (1 / L) * (V - (i * R) - Ke * vel)\n",
       "    pos_t = vel\n",
       "    vel_t = (1 / m) * (Kt * i - b * vel)\n",
       "\n",
       "    return np.hstack([i_t, pos_t, vel_t])\n",
       "```"
      ],
      "text/plain": [
       "<IPython.core.display.Markdown object>"
      ]
     },
     "metadata": {},
     "output_type": "display_data"
    }
   ],
   "source": [
    "extract_py_function(\"motor.py\", \"motor_ode\")"
   ]
  },
  {
   "cell_type": "markdown",
   "id": "d7b4a922",
   "metadata": {},
   "source": [
    "## Parameter estimation"
   ]
  },
  {
   "cell_type": "code",
   "execution_count": null,
   "id": "afadd26a",
   "metadata": {},
   "outputs": [],
   "source": []
  }
 ],
 "metadata": {
  "kernelspec": {
   "display_name": "archimedes",
   "language": "python",
   "name": "archimedes"
  },
  "language_info": {
   "codemirror_mode": {
    "name": "ipython",
    "version": 3
   },
   "file_extension": ".py",
   "mimetype": "text/x-python",
   "name": "python",
   "nbconvert_exporter": "python",
   "pygments_lexer": "ipython3",
   "version": "3.12.9"
  }
 },
 "nbformat": 4,
 "nbformat_minor": 5
}
