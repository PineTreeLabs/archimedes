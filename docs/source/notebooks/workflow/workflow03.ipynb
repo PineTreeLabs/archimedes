{
 "cells": [
  {
   "cell_type": "markdown",
   "id": "483264a0",
   "metadata": {},
   "source": [
    "# TODO"
   ]
  }
 ],
 "metadata": {
  "language_info": {
   "name": "python"
  }
 },
 "nbformat": 4,
 "nbformat_minor": 5
}
