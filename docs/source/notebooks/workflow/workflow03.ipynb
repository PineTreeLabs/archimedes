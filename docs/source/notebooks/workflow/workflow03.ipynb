{
 "cells": [
  {
   "cell_type": "markdown",
   "id": "483264a0",
   "metadata": {},
   "source": [
    "# Controller design"
   ]
  },
  {
   "cell_type": "markdown",
   "id": "65af4f4f",
   "metadata": {},
   "source": []
  }
 ],
 "metadata": {
  "language_info": {
   "name": "python"
  }
 },
 "nbformat": 4,
 "nbformat_minor": 5
}
