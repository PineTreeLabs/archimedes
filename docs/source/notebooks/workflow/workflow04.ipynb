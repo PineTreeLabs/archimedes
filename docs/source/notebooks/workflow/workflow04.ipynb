{
 "cells": [
  {
   "cell_type": "markdown",
   "id": "483264a0",
   "metadata": {},
   "source": [
    "# HIL testing"
   ]
  },
  {
   "cell_type": "markdown",
   "id": "9c1601c3",
   "metadata": {},
   "source": []
  }
 ],
 "metadata": {
  "language_info": {
   "name": "python"
  }
 },
 "nbformat": 4,
 "nbformat_minor": 5
}
