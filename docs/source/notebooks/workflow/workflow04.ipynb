{
 "cells": [
  {
   "cell_type": "markdown",
   "id": "483264a0",
   "metadata": {},
   "source": [
    "# HIL testing\n",
    "\n",
    "In the [previous part](workflow03.md) of this series we designed a control algorithm for the system and evaluated it with a fairly detailed simulation, including sensor and actuator models resolved to I/O voltage levels.\n",
    "Finally, we used the [`codegen`](#archimedes.codegen) function to output a portable C implementation of the controller.\n",
    "\n",
    "At this point we are substantially done with the \"Python environment\" part of our workflow.\n",
    "\n",
    "```{image} _static/dev_workflow.png\n",
    ":class: only-light\n",
    "```\n",
    "\n",
    "```{image} _static/dev_workflow_dark.png\n",
    ":class: only-dark\n",
    "```\n",
    "\n",
    "In principle we could \n",
    "\n",
    "```{image} _static/hil_diagram.png\n",
    ":class: only-light\n",
    "```\n",
    "\n",
    "```{image} _static/hil_diagram_dark.png\n",
    ":class: only-dark\n",
    "```"
   ]
  },
  {
   "cell_type": "markdown",
   "id": "9c1601c3",
   "metadata": {},
   "source": []
  }
 ],
 "metadata": {
  "language_info": {
   "name": "python"
  }
 },
 "nbformat": 4,
 "nbformat_minor": 5
}
