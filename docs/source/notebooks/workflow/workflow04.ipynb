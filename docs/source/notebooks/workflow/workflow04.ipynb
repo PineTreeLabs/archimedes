{
 "cells": [
  {
   "cell_type": "markdown",
   "id": "483264a0",
   "metadata": {},
   "source": [
    "# HIL testing\n",
    "\n",
    "In the [previous part](workflow03.md) of this series we designed a control algorithm for the system and evaluated it with a fairly detailed simulation, including sensor and actuator models resolved to I/O voltage levels.\n",
    "Finally, we used the [`codegen`](#archimedes.codegen) function to output a portable C implementation of the controller.\n",
    "\n",
    "At this point we are substantially done with the \"Python environment\" part of our workflow.\n",
    "\n",
    "```{image} _static/dev_workflow.png\n",
    ":class: only-light\n",
    "```\n",
    "\n",
    "```{image} _static/dev_workflow_dark.png\n",
    ":class: only-dark\n",
    "```\n",
    "\n",
    "In principle we have everything we need to deploy to the microcontroller and directly test on the physical system.\n",
    "However, here we'll add one last validation step: hardware-in-the-loop (HIL) testing.\n",
    "\n",
    "## Why HIL?\n",
    "\n",
    "The basic idea of HIL testing is to run the actual control logic on the actual microcontroller and supply it realistic I/O in real time to test behavior in various scenarios.\n",
    "If the performance meets requirements the real-time simulator can be simply swapped out for the physical system with no changes at all to the controller.\n",
    "\n",
    "```{image} _static/hil_diagram.png\n",
    ":class: only-light\n",
    "```\n",
    "\n",
    "```{image} _static/hil_diagram_dark.png\n",
    ":class: only-dark\n",
    "```\n",
    "\n",
    "Just as we separately simulated the idealized continuous-time controller and the discretized logic in order to distinguish between any issues with the theoretical control law and the digital implementation, HIL testing lets us pinpoint any new problems when we actually deploy to the microcontroller hardware (peripheral configuration, ADC sampling noise, timing latency or jitter, etc.).\n",
    "This gives us additional confidence in the controller, particularly in safety- or mission-critical scenarios that are difficult to create in physical tests.\n",
    "\n",
    "However, implementing HIL simulation does add some initial development complexity.\n",
    "In particular, we need a real-time implementation of the plant model and a way to run it in real time and interface with the controller, reading actuator signals and mocking sensor voltages.\n",
    "\n",
    "This often means time-intensive translation of the physics model from the simulation framework to optimized C/C++ code, which then requires its own maintenance to ensure it corresponds to the latest version of the simulation.\n",
    "With Archimedes, we can make use of the same codegen framework we used to deploy the controller code to auto-generate a real-time plant model directly from the Python simulation.\n",
    "\n",
    "For the DC motor, the \"full-fidelity\" model is more than fast enough for real time, but for more complex systems you could even develop a hierarchy of Python models using modular multi-fidelity components and/or reduced-order modeling techniques.\n",
    "The high-fidelity models can be used for initial simulations, and then you can automatically generate real-time-ready code from the reduced-order variants for HIL testing.\n",
    "This paradigm lets you leverage the power and convenience of modern Python-based software development - virtual environments, version control, automated testing frameworks, CI/CD tools, etc. - for hardware development workflows.\n",
    "\n",
    "## Hardware for the plant model\n",
    "\n",
    "The final requirement for HIL testing is a real-time simulation platform.\n",
    "Traditionally, this has meant purpose-built commercial systems that can run into the tens of thousands of dollars.\n",
    "While these systems are powerful and capable, the cost and complexity of working with them typically relegates HIL testing to late-stage validation and regulatory compliance verification.\n",
    "\n",
    "However, not every HIL testing application requires this kind of sophistication.\n",
    "In our case we have a 10 kHz control loop, meaning the plant model needs to run at least that fast with very precise (sub-microsecond) timing.\n",
    "The timing requirements make typical Unix distributions impractical for this use case - even with a specialized real-time kernel you'd still need a dedicated workstation, very high-speed communication, and external D/A conversion to generate the simulated sensor voltages.\n",
    "\n",
    "On the other hand, the model itself is not very complicated compared to modern microcontrollers like the ARM Cortex line.\n",
    "At the same time, the most demanding part of the requirements relates to timing and speed, which is where bare-metal microcontrollers shine.\n",
    "This suggests that instead of purchasing or developing a complex workstation-based HIL system, we can build a simple, low-cost DIY version using a second STM32 Nucleo board.\n",
    "\n",
    "This second \"simulation\" board will run the same plant model we simulated in [Part 3](workflow03.md), translated to C using the same [`codegen`](#archimedes.codegen) functionality used to deploy the controller.\n",
    "We can use the onboard D/A conversion to generate \"analog\" sensor voltages and the GPIO pins to output simulated encoder pulses.\n",
    "This eliminates most of the electronics, except for a couple of simple RC filters for signal conditioning (e.g. smoothing out the PWM signal).\n",
    "But, since all the inputs and outputs are in the same configuration and range as the physical system from the perspective of the controller board, once we're satisfied with the performance in HIL testing we can simply swap these connections to test on the physical hardware.\n",
    "\n",
    "<!-- Add link to Tesla battery testing -->"
   ]
  },
  {
   "cell_type": "code",
   "execution_count": 1,
   "id": "967b1dd1",
   "metadata": {},
   "outputs": [],
   "source": [
    "# ruff: noqa: N802, N803, N806, N815, N816\n",
    "import os\n",
    "import pickle\n",
    "\n",
    "import matplotlib.pyplot as plt\n",
    "import numpy as np\n",
    "\n",
    "import archimedes as arc\n",
    "from archimedes.docs.utils import (\n",
    "    extract_py_function, extract_py_class, display_text\n",
    ")\n",
    "\n",
    "from motor import (\n",
    "    RAD_PER_COUNT,\n",
    "    SUPPLY_VOLTAGE,\n",
    "    motor_ode,\n",
    "    MotorParams,\n",
    "    MotorInputs,\n",
    "    plant_step,\n",
    "    quad_count,\n",
    "    hil_dt,\n",
    ")\n",
    "\n",
    "THEME = os.environ.get(\"ARCHIMEDES_THEME\", \"dark\")\n",
    "arc.theme.set_theme(THEME)\n",
    "\n",
    "# Load calibrated parameters from Part 2\n",
    "with open(\"data/motor_params.pkl\", \"rb\") as f:\n",
    "    params = MotorParams(**pickle.load(f))"
   ]
  },
  {
   "cell_type": "markdown",
   "id": "387dace7",
   "metadata": {},
   "source": [
    "## Codegen for the plant\n",
    "\n",
    "We've already discussed and tested the discrete-time plant model implemented as `plant_step` in `motor.py`\n"
   ]
  },
  {
   "cell_type": "code",
   "execution_count": 2,
   "id": "217814be",
   "metadata": {},
   "outputs": [
    {
     "data": {
      "text/markdown": [
       "```python\n",
       "def motor_ode(\n",
       "    t: float, x: np.ndarray, u: np.ndarray, params: MotorParams\n",
       ") -> np.ndarray:\n",
       "\n",
       "    i, _pos, vel = x\n",
       "    (V,) = u\n",
       "\n",
       "    ke = params.kt / GEAR_RATIO  # Velocity -> Back EMF scale\n",
       "\n",
       "    i_t = (1 / params.L) * (V - (i * params.R) - ke * vel)\n",
       "    vel_t = (1 / params.J) * (params.kt * i - params.b * vel)\n",
       "\n",
       "    return np.hstack([i_t, vel, vel_t])\n",
       "```"
      ],
      "text/plain": [
       "<IPython.core.display.Markdown object>"
      ]
     },
     "metadata": {},
     "output_type": "display_data"
    },
    {
     "data": {
      "text/markdown": [
       "```python\n",
       "@struct.pytree_node\n",
       "class MotorInputs:\n",
       "    pwm_duty: float  # PWM duty cycle (0-1)\n",
       "    ENA: bool\n",
       "    ENB: bool\n",
       "    INA: bool\n",
       "    INB: bool\n",
       "```"
      ],
      "text/plain": [
       "<IPython.core.display.Markdown object>"
      ]
     },
     "metadata": {},
     "output_type": "display_data"
    },
    {
     "data": {
      "text/markdown": [
       "```python\n",
       "class MotorOutputs(NamedTuple):\n",
       "    ENCA: int\n",
       "    ENCB: int\n",
       "    V_CS: float\n",
       "    VOUTA: float\n",
       "    VOUTB: float\n",
       "```"
      ],
      "text/plain": [
       "<IPython.core.display.Markdown object>"
      ]
     },
     "metadata": {},
     "output_type": "display_data"
    },
    {
     "data": {
      "text/markdown": [
       "```python\n",
       "@arc.compile(static_argnames=\"PPR\")\n",
       "def encoder(pos: float, PPR: int) -> tuple[int, int]:\n",
       "    # Convert position to encoder counts\n",
       "    counts = np.fmod((pos / (2 * np.pi)) * PPR / 4, PPR / 4)\n",
       "\n",
       "    # Generate quadrature signals\n",
       "    ENCA = np.fmod(np.floor(counts * 4) + 1, 4) < 2\n",
       "    ENCB = np.fmod(np.floor(counts * 4), 4) < 2\n",
       "\n",
       "    return ENCA, ENCB\n",
       "```"
      ],
      "text/plain": [
       "<IPython.core.display.Markdown object>"
      ]
     },
     "metadata": {},
     "output_type": "display_data"
    },
    {
     "data": {
      "text/markdown": [
       "```python\n",
       "@arc.compile\n",
       "def motor_dir(INA, INB, ENA, ENB):\n",
       "    d = (INA + (1 - INB)) - (INB + (1 - INA))\n",
       "\n",
       "    # Disable if either of ENA or ENB are low\n",
       "    return ENA * ENB * (d / 2)\n",
       "```"
      ],
      "text/plain": [
       "<IPython.core.display.Markdown object>"
      ]
     },
     "metadata": {},
     "output_type": "display_data"
    },
    {
     "data": {
      "text/markdown": [
       "```python\n",
       "@arc.compile(name=\"plant\", return_names=(\"state_new\", \"outputs\"))\n",
       "def plant_step(\n",
       "    t,\n",
       "    state: np.ndarray,\n",
       "    inputs: MotorInputs,\n",
       "    params: MotorParams,\n",
       ") -> tuple[np.ndarray, MotorOutputs]:\n",
       "    # Determine motor direction\n",
       "    d = motor_dir(inputs.INA, inputs.INB, inputs.ENA, inputs.ENB)\n",
       "    pwm_duty = np.clip(inputs.pwm_duty, 0.0, 1.0)\n",
       "    V_motor = d * pwm_duty * SUPPLY_VOLTAGE\n",
       "\n",
       "    # Motor dynamics model (discretized)\n",
       "    u = (V_motor,)\n",
       "    state = motor_dyn(t, state, u, params)\n",
       "\n",
       "    I_motor, pos, vel = state\n",
       "\n",
       "    # Encoder emulation\n",
       "    PPR = ENC_PPR * GEAR_RATIO\n",
       "    ENCA, ENCB = encoder(pos, PPR)\n",
       "\n",
       "    # H-bridge output voltages\n",
       "    VOUTA = np.where(d >= 0, V_motor * VOUT_SCALE, 0.0)\n",
       "    VOUTB = np.where(d < 0, -V_motor * VOUT_SCALE, 0.0)\n",
       "\n",
       "    # Current sense voltage\n",
       "    V_CS = abs(I_motor) * CS_V_PER_AMP\n",
       "\n",
       "    outputs = MotorOutputs(\n",
       "        VOUTA=VOUTA,\n",
       "        VOUTB=VOUTB,\n",
       "        V_CS=V_CS,\n",
       "        ENCA=ENCA,\n",
       "        ENCB=ENCB,\n",
       "    )\n",
       "\n",
       "    return state, outputs\n",
       "```"
      ],
      "text/plain": [
       "<IPython.core.display.Markdown object>"
      ]
     },
     "metadata": {},
     "output_type": "display_data"
    }
   ],
   "source": [
    "\n",
    "extract_py_function(\"motor.py\", \"motor_ode\")\n",
    "extract_py_class(\"motor.py\", \"MotorInputs\")\n",
    "extract_py_class(\"motor.py\", \"MotorOutputs\")\n",
    "extract_py_function(\"motor.py\", \"encoder\")\n",
    "extract_py_function(\"motor.py\", \"motor_dir\")\n",
    "extract_py_function(\"motor.py\", \"plant_step\")"
   ]
  },
  {
   "cell_type": "markdown",
   "id": "4969bd9e",
   "metadata": {},
   "source": [
    "Here `motor_dyn` is simply the `motor_ode` discretized at 10 kHz, created via function transformation with:"
   ]
  },
  {
   "cell_type": "code",
   "execution_count": 3,
   "id": "8bbe4a5e",
   "metadata": {},
   "outputs": [],
   "source": [
    "motor_dyn = arc.discretize(motor_ode, dt=hil_dt, method=\"euler\")"
   ]
  },
  {
   "cell_type": "markdown",
   "id": "ae55e2e5",
   "metadata": {},
   "source": [
    "This discretization can use more accurate fixed-step solvers like RK4 or implicit solvers like Radau5 for stability with stiff systems.\n",
    "Here our time steps are small enough that choosing Euler for computational efficiency is sufficient.\n",
    "\n",
    "To generate code for the plant model, we follow the same pattern as for the controller logic.\n",
    "Simply define \"template\" arguments to the function that have the correct data structures, array shapes, initial values, etc. and pass them to [`codegen`](#archimedes.codegen):"
   ]
  },
  {
   "cell_type": "code",
   "execution_count": 4,
   "id": "97e47a20",
   "metadata": {},
   "outputs": [],
   "source": [
    "# Set up \"template\" args for the plant\n",
    "t0 = 0.0\n",
    "x0 = np.zeros(3)  # Initial physical state\n",
    "\n",
    "u0 = MotorInputs(\n",
    "    pwm_duty=0.0,  # PWM duty cycle (0-1)\n",
    "    ENA=1,\n",
    "    ENB=1,\n",
    "    INA=1,\n",
    "    INB=0,\n",
    ")\n",
    "\n",
    "args = (t0, x0, u0, params)\n",
    "arc.codegen(plant_step, args, output_dir=\"stm32/plant/archimedes\")"
   ]
  },
  {
   "cell_type": "markdown",
   "id": "df3cbdb7",
   "metadata": {},
   "source": [
    "Here's the header for the generated code.\n",
    "As with the controller, the codegen system has created structs corresponding to the `@pytree_node` classes `MotorParams`, `MotorInputs`, and `MotorOutputs`.\n",
    "These are then used within the top-level argument and result structures/"
   ]
  },
  {
   "cell_type": "code",
   "execution_count": 6,
   "id": "53370dc5",
   "metadata": {},
   "outputs": [
    {
     "data": {
      "text/markdown": [
       "```c\n",
       "\n",
       "#ifndef PLANT_H\n",
       "#define PLANT_H\n",
       "\n",
       "#include \"plant_kernel.h\"\n",
       "\n",
       "#ifdef __cplusplus\n",
       "extern \"C\" {\n",
       "#endif\n",
       "\n",
       "typedef struct {\n",
       "    float J;\n",
       "    float b;\n",
       "    float L;\n",
       "    float R;\n",
       "    float kt;\n",
       "} motor_params_t;\n",
       "\n",
       "typedef struct {\n",
       "    float pwm_duty;\n",
       "    float ENA;\n",
       "    float ENB;\n",
       "    float INA;\n",
       "    float INB;\n",
       "} motor_inputs_t;\n",
       "\n",
       "typedef struct {\n",
       "    float ENCA;\n",
       "    float ENCB;\n",
       "    float V_CS;\n",
       "    float VOUTA;\n",
       "    float VOUTB;\n",
       "} motor_outputs_t;\n",
       "\n",
       "// Input arguments struct\n",
       "typedef struct {\n",
       "    float t;\n",
       "    float state[3];\n",
       "    motor_inputs_t inputs;\n",
       "    motor_params_t params;\n",
       "} plant_arg_t;\n",
       "\n",
       "// Output results struct\n",
       "typedef struct {\n",
       "    float state_new[3];\n",
       "    motor_outputs_t outputs;\n",
       "} plant_res_t;\n",
       "\n",
       "// Workspace struct\n",
       "typedef struct {\n",
       "    long int iw[plant_SZ_IW];\n",
       "    float w[plant_SZ_W];\n",
       "} plant_work_t;\n",
       "\n",
       "// Runtime API\n",
       "int plant_init(plant_arg_t* arg, plant_res_t* res, plant_work_t* work);\n",
       "int plant_step(plant_arg_t* arg, plant_res_t* res, plant_work_t* work);\n",
       "\n",
       "\n",
       "#ifdef __cplusplus\n",
       "}\n",
       "#endif\n",
       "\n",
       "#endif // PLANT_H\n",
       "```"
      ],
      "text/plain": [
       "<IPython.core.display.Markdown object>"
      ]
     },
     "metadata": {},
     "output_type": "display_data"
    }
   ],
   "source": [
    "with open(\"stm32/plant/archimedes/plant.h\", \"r\") as f:\n",
    "    display_text(f.read(), language=\"c\")"
   ]
  },
  {
   "cell_type": "markdown",
   "id": "2fdf1fbd",
   "metadata": {},
   "source": [
    "Since we've provided the calibrated model parameters as one of the args to `codegen`, the `plant_init` function will initialize `plant_arg.params` with the correct values.\n",
    "We can update the plant model at every time step using a pattern that exactly mirrors the controller updates:\n",
    "\n",
    "```c\n",
    "#include \"plant.h\"\n",
    "\n",
    "plant_arg_t plant_arg;\n",
    "plant_res_t plant_res;\n",
    "plant_work_t plant_work;\n",
    "\n",
    "int main {\n",
    "    plant_init(&plant_arg, &plant_res, &plant_work);\n",
    "\n",
    "    while (1) {\n",
    "        if (sample_flag) {\n",
    "            // ... read inputs and assign to plant_arg\n",
    "            controller_step(&plant_arg, &plant_res, &plant_work);\n",
    "            plant_arg.state = plant_res.state_new;  // Copy updated state\n",
    "            // ... read outputs and write to PWM, GPIO\n",
    "            sample_flag = false;\n",
    "        }\n",
    "    }\n",
    "}\n",
    "```"
   ]
  },
  {
   "cell_type": "markdown",
   "id": "5675fef1",
   "metadata": {},
   "source": [
    "## Embedded implementation\n",
    "\n",
    "We now have two microcontroller boards we need to configure and program.\n",
    "The controller board configuration and workflow for cross-compiling and deploying the firmware is identical to what we've already used for data collection in [Part 2](workflow02.md).\n",
    "What's new at this stage is mainly the plant board configuration and the C applications (`main.c`) to be run by each board.\n",
    "This section will just give a high-level overview of the board configurations and interconnections, but again the STM32CubeMX configuration files and C source is available on [GitHub](https://github.com/PineTreeLabs/archimedes/tree/main/docs/source/notebooks/workflow/stm32/).\n",
    "\n",
    "\n",
    "```{image} _static/hil_schematic.png\n",
    "```\n",
    "\n",
    "### Controller board\n",
    "\n",
    "| STM32 pin | Nucleo pin | Function    | Notes                               |\n",
    "|-----------|------------|-------------|-------------------------------------|\n",
    "| PF3       | A3         | ADC3_IN9    | ADC3 rank 2 (VOUTB)                 |\n",
    "| PC3       | A2         | ADC3_IN13   | ADC3 rank 1 (VOUTA)                 |\n",
    "| PC0       | A1         | ADC1_IN10   | ADC1 rank 2 (V_CS)                  |\n",
    "| PA0       | D32        | TIM2_CH1    | Encoder input A                     |\n",
    "| PB3       | D23        | TIM2_CH2    | Encoder input B                     |\n",
    "| PE11      | N/A        | GPIO_Input  | Onboard button                      |\n",
    "| PB7       | N/A        | GPIO_Output | Onboard blue LED                    |\n",
    "| PG9       | D0         | GPIO_Output | Driver INA                          |\n",
    "| PG14      | D1         | GPIO_Output | Driver INB                          |\n",
    "| PF15      | D2         | GPIO_Output | Driver ENA (output open drain)      |\n",
    "| PE13      | D3         | GPIO_Output | Driver ENB (output open drain)      |\n",
    "| PE9       | D6         | TIM1_CH1    | PWM output                          |\n",
    "\n",
    "\n",
    "### Plant board\n",
    "\n",
    "| STM32 pin | Nucleo pin | Function    | Notes                               |\n",
    "|-----------|------------|-------------|-------------------------------------|\n",
    "| PA3       | A0         | ADC1_IN3    | ADC1 rank 1 (PWM input)             |\n",
    "| PA4       | D24        | DAC_OUT1    | V_CS output                         |\n",
    "| PA5       | D13        | DAC_OUT2    | VOUTA output                        |\n",
    "| PD14      | D10        | GPIO_Output | Encoder output A                    |\n",
    "| PA7       | D11        | GPIO_Output | Encoder output B                    |\n",
    "| PB7       | N/A        | GPIO_Output | Onboard blue LED                    |\n",
    "| PG9       | D0         | GPIO_Input  | Driver INA                          |\n",
    "| PG14      | D1         | GPIO_Input  | Driver INB                          |\n",
    "| PF15      | D2         | GPIO_Input  | Driver ENA                          |\n",
    "| PE13      | D3         | GPIO_Input  | Driver ENB                          |\n",
    "\n",
    "### Implementation notes\n",
    "\n",
    "It may be worth comparing the C application code for the \"step response\" from Part 2 ([source](https://github.com/PineTreeLabs/archimedes/tree/main/docs/source/notebooks/workflow/stm32/step_response/Core/Src/main.c)) with the closed-loop implementation here ([source](https://github.com/PineTreeLabs/archimedes/tree/main/docs/source/notebooks/workflow/stm32/controller/Core/Src/main.c)).\n",
    "The two are largely the same, so the differences mainly come from the use of the Archimedes-generated controller logic.\n",
    "Again, this provides a clear division of responsibilities for whose job it is to worry about the controller logic vs. the embedded implementation.\n",
    "\n",
    "There are a few other differences from the open-loop characterization test that are worth noting in this configuration:\n",
    "\n",
    "- We have to tell CMake about the Archimedes-generated code.  Since CubeMX will not overwrite an existing `CMakeLists.txt` file, this can be done as a one-time boilerplate (see [here](https://github.com/PineTreeLabs/archimedes/tree/main/docs/source/notebooks/workflow/stm32/controller/CMakeLists.txt) and [here](https://github.com/PineTreeLabs/archimedes/tree/main/docs/source/notebooks/workflow/stm32/controller/cmake/archimedes/CMakeLists.txt) for examples of the two files that need to be edited/created).\n",
    "- You can either power the plant board using a separate USB connection, or by daisy-chaining and powering from the +5V output of the controller board to the E5V pin of the plant (as shown in the schematic above).  In the latter case, make sure to set the power jumper (JP3 on this board) to the appropriate position for external power.\n",
    "- This HIL test configuration can't output nonzero `VOUTB` values (corresponding to direction reversal) because there are only two onboard DAC channels. We'd just need to incorporate an external DAC chip to expand this, but the VOUT is just a diagnostic reading and isn't used by the controller anyway. As we'll see, direction reversals are still handled properly by both the plant and controller boards.\n",
    "\n",
    "To keep things as simple as possible, this particular HIL testing setup is also configured so that all data logging is done on the controller side.\n",
    "Depending on your application, you may want to collect additional data from the plant board as well (for instance, internal model variables that aren't measured by any \"sensors\").\n",
    "To do this you would simply need to allocate storage arrays on the plant board and arrange to transmit them back to the computer in addition to any data logged by the controller.\n"
   ]
  },
  {
   "cell_type": "markdown",
   "id": "fc1ad69b",
   "metadata": {},
   "source": [
    "## Deploying and running\n",
    "\n",
    "The process is essentially identical to what we did in Part 2, except that now we need to deploy to the plant board first.\n",
    "To do this, ensure that the plant board is connected by USB (and the power jumper is set appropriately), and then use the CMake/OpenOCD toolchain:\n",
    "\n",
    "```bash\n",
    "cd stm32/plant\n",
    "cmake --preset=Release && cmake --build --preset=Release\n",
    "openocd -f interface/stlink.cfg -f target/stm32f4x.cfg \\\n",
    "        -c \"program build/Release/motor_plant.elf verify reset exit\"\n",
    "cd ../..\n",
    "```\n",
    "\n",
    "After flashing or resetting, the plant model will reset to a zero state with no inputs.\n",
    "That is, it will sit and wait for the controller to do anything, so we can always get a fresh physical state by just pressing the RESET button on the plant board.\n",
    "\n",
    "Next, switch USB connections to the controller board (and swap the power jumper for the plant board to E5V if necessary), and repeat the process:\n",
    "\n",
    "```bash\n",
    "cd stm32/controller\n",
    "cmake --preset=Release && cmake --build --preset=Release\n",
    "openocd -f interface/stlink.cfg -f target/stm32f4x.cfg \\\n",
    "        -c \"program build/Release/motor_controller.elf verify reset exit\"\n",
    "cd ../..\n",
    "```\n",
    "\n",
    "Now the controller will be waiting for the \"trigger\" signal (the onboard USER button).\n",
    "Before launching the test sequence, start the Python serial communications script to receive the data from the controller:\n",
    "\n",
    "```bash\n",
    "python serial_receive.py --save hil_data.csv\n",
    "```\n",
    "\n",
    "Once you see `\"Waiting for experiment data...\"` you can press the USER button to trigger the test.\n",
    "The controller will follow a command to move to a position of 1 rad for 250 ms, and then back to home for 250 ms, testing the step response performance and direction reversal logic.\n",
    "\n",
    "If you want to re-run the tests, just remember to reset both boards so that the state of the plant model is reset along with the controller."
   ]
  },
  {
   "cell_type": "markdown",
   "id": "091f5229",
   "metadata": {},
   "source": [
    "## Results\n",
    "\n",
    "- Load results\n",
    "- Discuss performance\n",
    "- Compare to simulated outcome\n",
    "\n",
    "### Case study: cascaded control\n",
    "\n",
    "To better understand the advantages of this kind of incremental testing protocol (continuous time simulation, then full simulated discrete logic, then HIL testing, then deployment), here's a quick anecdote to help illustrate the value.\n",
    "\n",
    "This example uses a simple PI feedback controller, but the first iteration of this series was based on a more complicated cascaded control approach using an inner current control loop nested in an outer position control loop.\n",
    "This incorporates the additional sensor information from the current sense output, and could in principle lead to improved controller performance.\n",
    "The control laws for both loops were designed with internal model control, \n",
    "<!-- TODO: finish -->\n",
    "\n",
    "The main reason for taking this more complicated approach to controller design was to illustrate how you can seamlessly go from high-level tools like the Python Control Systems Library and model-based controller synthesis to deployment-ready C code.\n",
    "\n",
    "\n",
    "### Ideas for extensions"
   ]
  },
  {
   "cell_type": "markdown",
   "id": "9c1601c3",
   "metadata": {},
   "source": [
    "## Expansion ideas:\n",
    "\n",
    "- Ethernet communication\n",
    "- data logging on both boards\n",
    "- configuring as part of a CI/CD pipeline\n",
    "- Distributed models (maybe expensive or parallel parts on a workstation)"
   ]
  }
 ],
 "metadata": {
  "kernelspec": {
   "display_name": "archimedes",
   "language": "python",
   "name": "archimedes"
  },
  "language_info": {
   "codemirror_mode": {
    "name": "ipython",
    "version": 3
   },
   "file_extension": ".py",
   "mimetype": "text/x-python",
   "name": "python",
   "nbconvert_exporter": "python",
   "pygments_lexer": "ipython3",
   "version": "3.12.9"
  }
 },
 "nbformat": 4,
 "nbformat_minor": 5
}
