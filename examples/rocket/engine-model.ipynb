{
 "cells": [
  {
   "cell_type": "markdown",
   "metadata": {},
   "source": [
    "# Pressure-fed rocket engine"
   ]
  },
  {
   "cell_type": "code",
   "execution_count": null,
   "metadata": {},
   "outputs": [],
   "source": [
    "import os\n",
    "\n",
    "import numpy as np\n",
    "import matplotlib.pyplot as plt\n",
    "\n",
    "from scipy.integrate import solve_ivp\n",
    "from scipy.optimize import root, minimize\n",
    "\n",
    "import control\n",
    "\n",
    "import archimedes as arc\n",
    "from archimedes.experimental import thermo\n",
    "from archimedes import struct\n",
    "\n",
    "from modred import balanced_truncation\n",
    "\n",
    "from engine_model import (\n",
    "    NitrogenTetroxide,\n",
    "    MonoMethylHydrazine,\n",
    "    Engine,\n",
    "    ControlVolume,\n",
    "    Orifice,\n",
    "    Valve,\n",
    "    LookupTable1D,\n",
    "    Nozzle,\n",
    ")\n",
    "\n",
    "THEME = os.environ.get(\"ARCHIMEDES_THEME\", \"dark\")\n",
    "arc.theme.set_theme(THEME)\n",
    "\n",
    "np.set_printoptions(precision=3, suppress=True)\n",
    "\n",
    "%load_ext autoreload\n",
    "%autoreload 2"
   ]
  },
  {
   "cell_type": "code",
   "execution_count": 2,
   "metadata": {},
   "outputs": [],
   "source": [
    "BAR_TO_PA = 100000"
   ]
  },
  {
   "cell_type": "markdown",
   "metadata": {},
   "source": [
    "# Model construction"
   ]
  },
  {
   "cell_type": "code",
   "execution_count": 3,
   "metadata": {},
   "outputs": [],
   "source": [
    "mmh_eos = MonoMethylHydrazine()\n",
    "n2o4_eos = NitrogenTetroxide()"
   ]
  },
  {
   "cell_type": "code",
   "execution_count": 4,
   "metadata": {},
   "outputs": [],
   "source": [
    "# Stoichiometric products at 45 bar as estimated by CEA\n",
    "# with only products at >0.01% mole fractions\n",
    "products = {\n",
    "    \"CO\": 0.06750,\n",
    "    \"CO2\": 0.07985,\n",
    "    \"H\": 0.01185,\n",
    "    \"H2\": 0.03915,\n",
    "    \"H2O\": 0.37163,\n",
    "    \"NO\": 0.01693,\n",
    "    \"N2\": 0.32306,\n",
    "    \"O\": 0.00839,\n",
    "    \"OH\": 0.05061,\n",
    "    \"O2\": 0.03088,\n",
    "}\n",
    "\n",
    "gas_eos = thermo.PerfectGasMixture(composition=products)"
   ]
  },
  {
   "cell_type": "code",
   "execution_count": 5,
   "metadata": {},
   "outputs": [
    {
     "name": "stdout",
     "output_type": "stream",
     "text": [
      "Fuel line volume: 5.65e-07 m^3\n",
      "Fuel line area: 2.83e-05 m^2\n",
      "Fuel manifold volume: 1.00e-05 m^3\n",
      "Fuel manifold area: 1.00e-04 m^2\n",
      "Fuel injector area: 5.00e-07 m^2\n",
      "Ox line volume: 5.65e-07 m^3\n",
      "Ox line area: 2.83e-05 m^2\n",
      "Ox manifold volume: 1.00e-05 m^3\n",
      "Ox manifold area: 1.00e-04 m^2\n",
      "Ox injector area: 1.25e-06 m^2\n"
     ]
    }
   ],
   "source": [
    "# Initialize volumes and orifices\n",
    "\n",
    "D_fl = 0.006  # Fuel line diameter [m]\n",
    "A_fl = np.pi * D_fl**2 / 4  # Fuel line cross-sectional area [m^2]\n",
    "L_fl = 0.02  # Fuel line length [m]\n",
    "V_fl = L_fl * A_fl  # Fuel line volume [m^3]\n",
    "\n",
    "A_fm = 1e-4 * 1  # Fuel manifold cross-sectional area [m^2]\n",
    "V_fm = 1e-6 * 10  # Fuel manifold volume [m^3]\n",
    "Cd_fmi = 0.7\n",
    "\n",
    "A_fin = 1e-6 * 0.5  # Fuel manifold cross-sectional area [m^2]\n",
    "Cd_fin = 0.7\n",
    "\n",
    "print(f\"Fuel line volume: {V_fl:.2e} m^3\")\n",
    "print(f\"Fuel line area: {A_fl:.2e} m^2\")\n",
    "print(f\"Fuel manifold volume: {V_fm:.2e} m^3\")\n",
    "print(f\"Fuel manifold area: {A_fm:.2e} m^2\")\n",
    "print(f\"Fuel injector area: {A_fin:.2e} m^2\")\n",
    "\n",
    "A_ol = A_fl\n",
    "V_ol = A_ol * L_fl\n",
    "A_om = A_fm\n",
    "V_om = V_fm\n",
    "Cd_omi = Cd_fmi\n",
    "A_oin = 2.5 * A_fin\n",
    "Cd_oin = Cd_fin\n",
    "\n",
    "print(f\"Ox line volume: {V_ol:.2e} m^3\")\n",
    "print(f\"Ox line area: {A_ol:.2e} m^2\")\n",
    "print(f\"Ox manifold volume: {V_om:.2e} m^3\")\n",
    "print(f\"Ox manifold area: {A_om:.2e} m^2\")\n",
    "print(f\"Ox injector area: {A_oin:.2e} m^2\")\n",
    "\n",
    "V_cc = 1e-6 * 50  # Combustor volume [m^3]\n",
    "\n",
    "At_noz = 1e-4 * 1  # Nozzle throat area [m^2]\n",
    "Cd_noz = 1.0\n",
    "\n",
    "I = 1e-6  # Inertance\n",
    "\n",
    "fuel_line = ControlVolume(vol=V_fl)\n",
    "fuel_manifold_inlet = Orifice(CdA=Cd_fmi * A_fm, I=I)\n",
    "fuel_manifold = ControlVolume(vol=V_fm)\n",
    "fuel_injectors = Orifice(CdA=Cd_fin * A_fin, I=I)\n",
    "\n",
    "ox_line = ControlVolume(vol=V_ol)\n",
    "ox_manifold_inlet = Orifice(CdA=Cd_omi * A_om, I=I)\n",
    "ox_manifold = ControlVolume(vol=V_om)\n",
    "ox_injectors = Orifice(CdA=Cd_oin * A_oin, I=I)\n",
    "\n",
    "chamber = ControlVolume(vol=V_cc)\n",
    "nozzle = Nozzle(At=At_noz, Cq=1.0, I=I)"
   ]
  },
  {
   "cell_type": "code",
   "execution_count": 6,
   "metadata": {},
   "outputs": [
    {
     "data": {
      "image/png": "[encoded data removed]",
      "text/plain": [
       "<Figure size 400x400 with 1 Axes>"
      ]
     },
     "metadata": {},
     "output_type": "display_data"
    }
   ],
   "source": [
    "# Simple valve lookup table (same characteristics for both valves)\n",
    "pos_data = np.linspace(1e-4, 1, 10)\n",
    "CdA_data = A_fl * pos_data**2  # Quadratic valve characteristics\n",
    "\n",
    "fuel_valve = Valve(CdA=LookupTable1D(pos_data, CdA_data), I=I)\n",
    "ox_valve = Valve(CdA=LookupTable1D(pos_data, CdA_data), I=I)\n",
    "\n",
    "plt.figure(figsize=(4, 4))\n",
    "plt.plot(pos_data, CdA_data, \".\")\n",
    "plt.plot(pos_data, fuel_valve.CdA(pos_data), \"--\")\n",
    "plt.xlabel(\"Position [0-1]\")\n",
    "plt.ylabel(\"CdA [m$^2$]\")\n",
    "plt.grid()\n",
    "plt.show()"
   ]
  },
  {
   "cell_type": "code",
   "execution_count": 7,
   "metadata": {},
   "outputs": [],
   "source": [
    "model = Engine(\n",
    "    fuel=mmh_eos,\n",
    "    oxidizer=n2o4_eos,\n",
    "    exhaust=gas_eos,\n",
    "    fv=fuel_valve,\n",
    "    fl=fuel_line,\n",
    "    fmi=fuel_manifold_inlet,\n",
    "    fm=fuel_manifold,\n",
    "    fin=fuel_injectors,\n",
    "    ov=ox_valve,\n",
    "    ol=ox_line,\n",
    "    omi=ox_manifold_inlet,\n",
    "    om=ox_manifold,\n",
    "    oin=ox_injectors,\n",
    "    cc=chamber,\n",
    "    noz=nozzle,\n",
    ")"
   ]
  },
  {
   "cell_type": "code",
   "execution_count": 8,
   "metadata": {},
   "outputs": [
    {
     "data": {
      "text/plain": [
       "Engine.State(fv=FlowPath.State(dm=np.float64(2998217289421.2397)), fl=ControlVolume.State(rho=0.0, T=np.float64(167.73462811550834)), fmi=FlowPath.State(dm=np.float64(-291266049.41949266)), fm=ControlVolume.State(rho=0.0, T=np.float64(0.0)), fin=FlowPath.State(dm=np.float64(-6370641976779.759)), ov=FlowPath.State(dm=np.float64(2990244177605.729)), ol=ControlVolume.State(rho=0.0, T=np.float64(0.0)), omi=FlowPath.State(dm=np.float64(-1597092234.7223659)), om=ControlVolume.State(rho=0.0, T=np.float64(0.0)), oin=FlowPath.State(dm=np.float64(-4941390302223.184)), cc=ControlVolume.State(rho=0.0, T=np.float64(2046704.9921469258)), noz=FlowPath.State(dm=np.float64(-615218998971.541)))"
      ]
     },
     "execution_count": 8,
     "metadata": {},
     "output_type": "execute_result"
    }
   ],
   "source": [
    "T0 = 300.0\n",
    "p0_fl = 60 * BAR_TO_PA\n",
    "rho0_fl = mmh_eos.rho(p=p0_fl, T=T0)\n",
    "p0_fm = 60 * BAR_TO_PA\n",
    "rho0_fm = mmh_eos.rho(p=p0_fm, T=T0)\n",
    "\n",
    "p0_ol = 60 * BAR_TO_PA\n",
    "rho0_ol = n2o4_eos.rho(p=p0_ol, T=T0)\n",
    "p0_om = 60 * BAR_TO_PA\n",
    "rho0_om = n2o4_eos.rho(p=p0_om, T=T0)\n",
    "\n",
    "p0_cc = 60 * BAR_TO_PA\n",
    "T0_cc = 2500.0\n",
    "rho0_cc = gas_eos.rho(p=p0_cc, T=T0_cc)\n",
    "\n",
    "\n",
    "def bcs(t):\n",
    "    pos_fv = np.where(t < 1, 1.0, np.fmax(0.1, 1.0 - (t - 1)))\n",
    "    pos_ov = np.where(t < 5, 1.0, np.fmax(0.1, 1.0 - (t - 5)))\n",
    "\n",
    "    return Engine.BoundaryConditions(\n",
    "        p_ft=90 * BAR_TO_PA * np.ones_like(t),\n",
    "        T_ft=T0 * np.ones_like(t),\n",
    "        p_ot=90 * BAR_TO_PA * np.ones_like(t),\n",
    "        T_ot=T0 * np.ones_like(t),\n",
    "        p_amb=BAR_TO_PA * np.ones_like(t),\n",
    "        T_amb=T0 * np.ones_like(t),\n",
    "        pos_fv=pos_fv,\n",
    "        pos_ov=pos_ov,\n",
    "    )\n",
    "\n",
    "\n",
    "x0 = Engine.State(\n",
    "    fv=Valve.State(dm=0.05),\n",
    "    fl=ControlVolume.State(rho=rho0_fl, T=T0),\n",
    "    fmi=Orifice.State(dm=0.05),\n",
    "    fm=ControlVolume.State(rho=rho0_fm, T=T0),\n",
    "    fin=Orifice.State(dm=0.05),\n",
    "    ov=Valve.State(dm=0.15),\n",
    "    ol=ControlVolume.State(rho=rho0_ol, T=T0),\n",
    "    omi=Orifice.State(dm=0.15),\n",
    "    om=ControlVolume.State(rho=rho0_om, T=T0),\n",
    "    oin=Orifice.State(dm=0.15),\n",
    "    cc=ControlVolume.State(rho=rho0_cc, T=T0),\n",
    "    noz=Orifice.State(dm=0.2),\n",
    ")\n",
    "\n",
    "u0 = bcs(0.0)\n",
    "\n",
    "model.dynamics(x0, u0)"
   ]
  },
  {
   "cell_type": "code",
   "execution_count": 9,
   "metadata": {},
   "outputs": [
    {
     "data": {
      "text/plain": [
       "array([   0.05 ,  875.839,  300.   ,    0.05 ,  875.839,  300.   ,\n",
       "          0.05 ,    0.15 , 1437.562,  300.   ,    0.15 , 1437.562,\n",
       "        300.   ,    0.15 ,    6.778,  300.   ,    0.2  ])"
      ]
     },
     "execution_count": 9,
     "metadata": {},
     "output_type": "execute_result"
    }
   ],
   "source": [
    "x0_flat, unravel = arc.tree.ravel(x0)\n",
    "x0_flat"
   ]
  },
  {
   "cell_type": "code",
   "execution_count": 10,
   "metadata": {},
   "outputs": [],
   "source": [
    "@arc.compile\n",
    "def ode_rhs(t, x_flat):\n",
    "    x = unravel(x_flat)\n",
    "    u = bcs(t)\n",
    "    x_t = model.dynamics(x, u)\n",
    "    x_t_flat, _ = arc.tree.ravel(x_t)\n",
    "    return x_t_flat\n",
    "\n",
    "\n",
    "jac = arc.jac(ode_rhs, 1)"
   ]
  },
  {
   "cell_type": "code",
   "execution_count": 11,
   "metadata": {},
   "outputs": [
    {
     "data": {
      "text/plain": [
       "ControlVolume.State(rho=array(0.), T=array(2046704.992))"
      ]
     },
     "execution_count": 11,
     "metadata": {},
     "output_type": "execute_result"
    }
   ],
   "source": [
    "dx0 = unravel(ode_rhs(0.0, x0_flat))\n",
    "dx0.cc"
   ]
  },
  {
   "cell_type": "code",
   "execution_count": 12,
   "metadata": {},
   "outputs": [],
   "source": [
    "# jac(0.0, x0_flat)"
   ]
  },
  {
   "cell_type": "code",
   "execution_count": 13,
   "metadata": {},
   "outputs": [
    {
     "data": {
      "text/plain": [
       "  message: The solver successfully reached the end of the integration interval.\n",
       "  success: True\n",
       "   status: 0\n",
       "        t: [ 0.000e+00  8.481e-19 ...  9.881e+00  1.000e+01]\n",
       "        y: [[ 5.000e-02  5.000e-02 ...  2.731e-02  2.731e-02]\n",
       "            [ 8.758e+02  8.758e+02 ...  8.730e+02  8.730e+02]\n",
       "            ...\n",
       "            [ 3.000e+02  3.000e+02 ...  3.430e+03  3.430e+03]\n",
       "            [ 2.000e-01  2.000e-01 ...  7.164e-02  7.164e-02]]\n",
       "      sol: None\n",
       " t_events: None\n",
       " y_events: None\n",
       "     nfev: 4222\n",
       "     njev: 158\n",
       "      nlu: 519"
      ]
     },
     "execution_count": 13,
     "metadata": {},
     "output_type": "execute_result"
    }
   ],
   "source": [
    "def _ode_rhs(t, x):\n",
    "    return ode_rhs(t, x)\n",
    "\n",
    "\n",
    "def _jac(t, x):\n",
    "    J = jac(t, x)\n",
    "    return J\n",
    "\n",
    "\n",
    "sol = solve_ivp(\n",
    "    _ode_rhs,\n",
    "    t_span=(0, 10),\n",
    "    y0=x0_flat,\n",
    "    method=\"BDF\",\n",
    "    jac=_jac,\n",
    "    atol=1e-9,\n",
    "    rtol=1e-6,\n",
    ")\n",
    "\n",
    "sol"
   ]
  },
  {
   "cell_type": "code",
   "execution_count": 14,
   "metadata": {},
   "outputs": [],
   "source": [
    "leaves, treedef = arc.tree.flatten(x0)\n",
    "ts = sol.t\n",
    "xs = treedef.unflatten(sol.y)\n",
    "us = bcs(ts)"
   ]
  },
  {
   "cell_type": "code",
   "execution_count": 15,
   "metadata": {},
   "outputs": [
    {
     "data": {
      "text/plain": [
       "(np.float64(0.027309958260450722), np.float64(0.04433087406298049))"
      ]
     },
     "execution_count": 15,
     "metadata": {},
     "output_type": "execute_result"
    }
   ],
   "source": [
    "xs.fin.dm[-1], xs.oin.dm[-1]"
   ]
  },
  {
   "cell_type": "code",
   "execution_count": 16,
   "metadata": {},
   "outputs": [
    {
     "name": "stdout",
     "output_type": "stream",
     "text": [
      "fuel     = 0.0371 kg/s\n",
      "oxidizer = 0.1189 kg/s\n",
      "net      = 0.1560 kg/s\n"
     ]
    }
   ],
   "source": [
    "dm_f = np.interp(1.0, ts, xs.fin.dm)\n",
    "dm_o = np.interp(1.0, ts, xs.oin.dm)\n",
    "\n",
    "print(f\"fuel     = {dm_f:.4f} kg/s\")\n",
    "print(f\"oxidizer = {dm_o:.4f} kg/s\")\n",
    "print(f\"net      = {dm_f + dm_o:.4f} kg/s\")"
   ]
  },
  {
   "cell_type": "code",
   "execution_count": 17,
   "metadata": {},
   "outputs": [
    {
     "data": {
      "text/plain": [
       "np.float64(3430.1324907438393)"
      ]
     },
     "execution_count": 17,
     "metadata": {},
     "output_type": "execute_result"
    }
   ],
   "source": [
    "xs.cc.T[-1]"
   ]
  },
  {
   "cell_type": "code",
   "execution_count": 18,
   "metadata": {},
   "outputs": [
    {
     "data": {
      "image/png": "[encoded data removed]",
      "text/plain": [
       "<Figure size 700x600 with 4 Axes>"
      ]
     },
     "metadata": {},
     "output_type": "display_data"
    }
   ],
   "source": [
    "p_fl = np.array([mmh_eos.p(rho=rho, T=T) for rho, T in zip(xs.fl.rho, xs.fl.T)])\n",
    "p_fm = np.array([mmh_eos.p(rho=rho, T=T) for rho, T in zip(xs.fm.rho, xs.fm.T)])\n",
    "p_ol = np.array([n2o4_eos.p(rho=rho, T=T) for rho, T in zip(xs.ol.rho, xs.ol.T)])\n",
    "p_om = np.array([n2o4_eos.p(rho=rho, T=T) for rho, T in zip(xs.om.rho, xs.om.T)])\n",
    "p_cc = np.array([gas_eos.p(rho=rho, T=T) for rho, T in zip(xs.cc.rho, xs.cc.T)])\n",
    "\n",
    "fig, ax = plt.subplots(4, 1, figsize=(7, 6), sharex=True)\n",
    "ax[0].plot(ts, us.p_ft / BAR_TO_PA, c=\"k\", label=\"FT\")\n",
    "ax[0].plot(ts, p_fl / BAR_TO_PA, label=\"FL\")\n",
    "ax[0].plot(ts, p_fm / BAR_TO_PA, label=\"FM\")\n",
    "ax[0].plot(ts, p_ol / BAR_TO_PA, label=\"OL\")\n",
    "ax[0].plot(ts, p_om / BAR_TO_PA, label=\"OM\")\n",
    "ax[0].plot(ts, p_cc / BAR_TO_PA, label=\"CC\")\n",
    "ax[0].legend()\n",
    "ax[0].set_ylabel(\"$p$ [bar]\")\n",
    "ax[0].grid()\n",
    "ax[1].plot(ts, xs.fl.T)\n",
    "ax[1].plot(ts, xs.fm.T)\n",
    "ax[1].plot(ts, xs.ol.T)\n",
    "ax[1].plot(ts, xs.om.T)\n",
    "ax[1].plot(ts, xs.cc.T)\n",
    "ax[1].set_ylabel(\"$T$ [K]\")\n",
    "ax[1].grid()\n",
    "ax[2].plot(ts, xs.fv.dm)\n",
    "# ax[2].plot(ts, xs.fmi.dm)\n",
    "# ax[2].plot(ts, xs.fin.dm)\n",
    "ax[2].plot(ts, xs.ov.dm)\n",
    "# ax[2].plot(ts, xs.omi.dm)\n",
    "# ax[2].plot(ts, xs.oin.dm)\n",
    "ax[2].plot(ts, xs.noz.dm)\n",
    "ax[2].set_ylabel(r\"$\\dot{m}$ [kg/s]\")\n",
    "ax[2].grid()\n",
    "ax[2].set_ylim([-0.05, 0.3])\n",
    "ax[3].plot(ts, us.pos_fv, \"k-\", label=\"Fuel\")\n",
    "ax[3].plot(ts, us.pos_ov, \"-\", c=\"grey\", label=\"Ox\")\n",
    "ax[3].set_ylabel(\"Valve pos [-]\")\n",
    "ax[3].grid()\n",
    "ax[-1].set_xlabel(\"Time [s]\")\n",
    "plt.show()"
   ]
  },
  {
   "cell_type": "code",
   "execution_count": 19,
   "metadata": {},
   "outputs": [
    {
     "data": {
      "image/png": "[encoded data removed]",
      "text/plain": [
       "<Figure size 700x200 with 1 Axes>"
      ]
     },
     "metadata": {},
     "output_type": "display_data"
    }
   ],
   "source": [
    "# Mixture ratio\n",
    "\n",
    "dn_o = xs.oin.dm / (model.oxidizer.M * 1e-3)  # molar flow rate of oxidizer\n",
    "dn_f = xs.fin.dm / (model.fuel.M * 1e-3)  # molar flow rate of fuel\n",
    "\n",
    "plt.figure(figsize=(7, 2))\n",
    "plt.plot(ts, dn_o / dn_f)\n",
    "plt.grid()"
   ]
  },
  {
   "cell_type": "code",
   "execution_count": 20,
   "metadata": {},
   "outputs": [
    {
     "data": {
      "image/png": "[encoded data removed]",
      "text/plain": [
       "<Figure size 700x200 with 1 Axes>"
      ]
     },
     "metadata": {},
     "output_type": "display_data"
    }
   ],
   "source": [
    "Phi = model.equivalence_ratio(xs)\n",
    "g0 = 9.81  # m/s^2\n",
    "\n",
    "plt.figure(figsize=(7, 2))\n",
    "plt.plot(ts, Phi)\n",
    "plt.xlabel(\"Time [s]\")\n",
    "plt.ylabel(r\"$\\Phi$ [-]\")\n",
    "plt.grid()\n",
    "plt.show()"
   ]
  },
  {
   "cell_type": "markdown",
   "metadata": {},
   "source": [
    "### Thrust calculation"
   ]
  },
  {
   "cell_type": "code",
   "execution_count": 21,
   "metadata": {},
   "outputs": [
    {
     "name": "stdout",
     "output_type": "stream",
     "text": [
      "Specific impulse at max thrust: 245.56 s\n",
      "Thrust: 375.71 N\n"
     ]
    },
    {
     "data": {
      "image/png": "[encoded data removed]",
      "text/plain": [
       "<Figure size 700x200 with 1 Axes>"
      ]
     },
     "metadata": {},
     "output_type": "display_data"
    }
   ],
   "source": [
    "F = model.thrust(xs, us)\n",
    "g0 = 9.81  # m/s^2\n",
    "\n",
    "# Exhaust mass flow rate [kg/s]\n",
    "dm_e = xs.noz.dm\n",
    "\n",
    "# Specific impulse at max thrust [s]\n",
    "Isp = np.interp(1.0, ts, F / dm_e) / g0\n",
    "print(f\"Specific impulse at max thrust: {Isp:.2f} s\")\n",
    "\n",
    "print(f\"Thrust: {np.interp(1.0, ts, F):.2f} N\")\n",
    "\n",
    "plt.figure(figsize=(7, 2))\n",
    "plt.plot(ts, F)\n",
    "plt.xlabel(\"Time [s]\")\n",
    "plt.ylabel(\"Thrust [N]\")\n",
    "plt.grid()\n",
    "plt.show()"
   ]
  },
  {
   "cell_type": "markdown",
   "metadata": {},
   "source": [
    "# Fixed-point finding\n",
    "\n",
    "Given a target thrust and mixture ratio, find an equilibrium operating point."
   ]
  },
  {
   "cell_type": "code",
   "execution_count": 22,
   "metadata": {},
   "outputs": [],
   "source": [
    "from typing import OrderedDict\n",
    "\n",
    "lbx = Engine.State(\n",
    "    fv=Valve.State(dm=0.0),\n",
    "    fl=ControlVolume.State(rho=800, T=290),\n",
    "    fmi=Orifice.State(dm=0.0),\n",
    "    fm=ControlVolume.State(rho=800, T=290),\n",
    "    fin=Orifice.State(dm=0.0),\n",
    "    ov=Valve.State(dm=0.0),\n",
    "    ol=ControlVolume.State(rho=1000, T=290),\n",
    "    omi=Orifice.State(dm=0.0),\n",
    "    om=ControlVolume.State(rho=1000, T=290),\n",
    "    oin=Orifice.State(dm=0.0),\n",
    "    cc=ControlVolume.State(rho=0.1, T=3000),\n",
    "    noz=Orifice.State(dm=0.0),\n",
    ")\n",
    "\n",
    "ubx = Engine.State(\n",
    "    fv=Valve.State(dm=0.2),\n",
    "    fl=ControlVolume.State(rho=1200, T=350),\n",
    "    fmi=Orifice.State(dm=0.2),\n",
    "    fm=ControlVolume.State(rho=1200, T=350),\n",
    "    fin=Orifice.State(dm=0.2),\n",
    "    ov=Valve.State(dm=0.2),\n",
    "    ol=ControlVolume.State(rho=2000, T=350),\n",
    "    omi=Orifice.State(dm=0.2),\n",
    "    om=ControlVolume.State(rho=2000, T=350),\n",
    "    oin=Orifice.State(dm=0.2),\n",
    "    cc=ControlVolume.State(rho=10.0, T=5000),\n",
    "    noz=Orifice.State(dm=0.5),\n",
    ")\n",
    "\n",
    "lbu = OrderedDict(\n",
    "    {\n",
    "        \"pos_ov\": 0.0,\n",
    "        \"pos_fv\": 0.0,\n",
    "    }\n",
    ")\n",
    "\n",
    "ubu = OrderedDict(\n",
    "    {\n",
    "        \"pos_ov\": 1.0,\n",
    "        \"pos_fv\": 1.0,\n",
    "    }\n",
    ")"
   ]
  },
  {
   "cell_type": "code",
   "execution_count": 23,
   "metadata": {},
   "outputs": [
    {
     "data": {
      "text/plain": [
       "array([ 2.998e+12,  0.000e+00,  1.677e+02, -2.913e+08,  0.000e+00,\n",
       "        0.000e+00, -6.371e+12,  2.990e+12,  0.000e+00,  0.000e+00,\n",
       "       -1.597e+09,  0.000e+00,  0.000e+00, -4.941e+12,  0.000e+00,\n",
       "        2.047e+06, -6.152e+11,  5.036e-01])"
      ]
     },
     "execution_count": 23,
     "metadata": {},
     "output_type": "execute_result"
    }
   ],
   "source": [
    "u_valve = OrderedDict(\n",
    "    {\n",
    "        \"pos_ov\": 1.0,\n",
    "        \"pos_fv\": 1.0,\n",
    "    }\n",
    ")  # Valve positions\n",
    "\n",
    "\n",
    "# Boundary conditions\n",
    "u0 = bcs(ts[-1])\n",
    "\n",
    "# x_guess = arc.tree.map(lambda x: np.interp(0.99, ts, x), xs)\n",
    "\n",
    "dvs_guess = (x0, u_valve)\n",
    "dvs_guess_flat, unravel = arc.tree.ravel(dvs_guess)\n",
    "\n",
    "lb_flat, _ = arc.tree.ravel((lbx, lbu))\n",
    "ub_flat, _ = arc.tree.ravel((ubx, ubu))\n",
    "\n",
    "\n",
    "@arc.compile\n",
    "def residual(dvs_flat):\n",
    "    x, u_valve = unravel(dvs_flat)\n",
    "    u = u0.replace(**u_valve)\n",
    "    OF_cmd = model.OF_stoich\n",
    "    residuals = (model.dynamics(x, u), model.OF(x) - OF_cmd)\n",
    "    return arc.tree.ravel(residuals)[0]\n",
    "\n",
    "\n",
    "F_cmd = 300.0\n",
    "\n",
    "residual(dvs_guess_flat)"
   ]
  },
  {
   "cell_type": "code",
   "execution_count": 24,
   "metadata": {},
   "outputs": [],
   "source": [
    "@arc.compile\n",
    "def obj(dvs_flat):\n",
    "    x, u_valve = unravel(dvs_flat)\n",
    "    u = u0.replace(**u_valve)\n",
    "    F = model.thrust(x, u)\n",
    "\n",
    "    J = (F - F_cmd) ** 2  # Target thrust\n",
    "    # J = -F  # Maximize thrust\n",
    "    return J"
   ]
  },
  {
   "cell_type": "code",
   "execution_count": 25,
   "metadata": {},
   "outputs": [
    {
     "data": {
      "text/plain": [
       "array(33669.624)"
      ]
     },
     "execution_count": 25,
     "metadata": {},
     "output_type": "execute_result"
    }
   ],
   "source": [
    "obj(dvs_guess_flat)"
   ]
  },
  {
   "cell_type": "code",
   "execution_count": 26,
   "metadata": {},
   "outputs": [
    {
     "name": "stdout",
     "output_type": "stream",
     "text": [
      "\n",
      "******************************************************************************\n",
      "This program contains Ipopt, a library for large-scale nonlinear optimization.\n",
      " Ipopt is released as open source code under the Eclipse Public License (EPL).\n",
      "         For more information visit https://github.com/coin-or/Ipopt\n",
      "******************************************************************************\n",
      "\n",
      "This is Ipopt version 3.14.11, running with linear solver MUMPS 5.4.1.\n",
      "\n",
      "Number of nonzeros in equality constraint Jacobian...:       71\n",
      "Number of nonzeros in inequality constraint Jacobian.:        0\n",
      "Number of nonzeros in Lagrangian Hessian.............:       61\n",
      "\n",
      "Total number of variables............................:       19\n",
      "                     variables with only lower bounds:        0\n",
      "                variables with lower and upper bounds:       19\n",
      "                     variables with only upper bounds:        0\n",
      "Total number of equality constraints.................:       18\n",
      "Total number of inequality constraints...............:        0\n",
      "        inequality constraints with only lower bounds:        0\n",
      "   inequality constraints with lower and upper bounds:        0\n",
      "        inequality constraints with only upper bounds:        0\n",
      "\n",
      "iter    objective    inf_pr   inf_du lg(mu)  ||d||  lg(rg) alpha_du alpha_pr  ls\n",
      "   0  4.1893825e+04 1.29e+13 2.80e-02  -1.0 0.00e+00    -  0.00e+00 0.00e+00   0\n",
      "   1  4.1860770e+04 1.29e+13 7.19e+01  -1.0 5.23e+02    -  9.27e-05 5.73e-04h  1\n",
      "   2  4.1145160e+04 9.24e+15 1.56e+09  -1.0 5.22e+02    -  1.08e-03 1.22e-02h  1\n",
      "   3  3.0319525e+04 7.59e+15 1.51e+10  -1.0 5.11e+02    -  3.23e-04 1.92e-01h  1\n",
      "   4  4.1569295e+03 5.11e+15 1.95e+11  -1.0 8.11e+01   4.0 2.22e-01 2.22e-01h  2\n",
      "   5  3.3782544e+04 3.98e+15 1.92e+11  -1.0 1.99e+02   3.5 4.21e-01 1.35e-01h  2\n",
      "   6  8.8915231e+04 8.36e+12 1.03e+11  -1.0 7.88e+01   3.0 7.73e-01 3.88e-01h  1\n",
      "   7  8.9540767e+04 9.23e+12 8.58e+12  -1.0 6.75e+00   2.6 9.77e-01 4.62e-01h  1\n",
      "   8  8.9769492e+04 9.16e+12 8.53e+12  -1.0 1.50e+04    -  2.41e-02 2.51e-03h  2\n",
      "   9  8.9860325e+04 9.07e+12 8.47e+12  -1.0 9.94e+03    -  1.64e-01 4.45e-03h  1\n",
      "iter    objective    inf_pr   inf_du lg(mu)  ||d||  lg(rg) alpha_du alpha_pr  ls\n",
      "  10  8.9860778e+04 9.07e+12 8.47e+12  -1.0 2.05e+03    -  9.91e-01 2.16e-04h  1\n",
      "  11  8.9873108e+04 6.61e+12 8.11e+12  -1.0 3.53e+00    -  1.00e+00 3.98e-02h  4\n",
      "  12  8.9938977e+04 2.28e+12 5.46e+12  -1.0 3.39e+00    -  1.00e+00 2.39e-01h  2\n",
      "  13  8.9970854e+04 1.73e+12 3.71e+12  -1.0 2.58e+00    -  1.00e+00 2.36e-01h  2\n",
      "  14  8.9986202e+04 1.33e+12 2.54e+12  -1.0 1.97e+00    -  5.60e-01 2.32e-01h  2\n",
      "  15  8.9999737e+04 2.60e+12 3.15e+11  -1.0 2.43e+00    -  1.18e-02 4.56e-01h  1\n",
      "  16  8.9999834e+04 2.09e+12 2.69e+11  -1.0 1.34e+01    -  1.35e-02 2.26e-01h  2\n",
      "  17  8.9999964e+04 8.90e+11 1.38e+11  -1.0 1.69e+02    -  1.69e-02 3.47e-01h  1\n",
      "  18  8.9999966e+04 8.85e+11 1.37e+11  -1.0 1.22e+02    -  1.00e+00 5.55e-03h  1\n",
      "  19  8.9999966e+04 8.85e+11 1.37e+11  -1.0 9.62e+02    -  7.57e-01 8.47e-05h  1\n",
      "iter    objective    inf_pr   inf_du lg(mu)  ||d||  lg(rg) alpha_du alpha_pr  ls\n",
      "  20  8.9999969e+04 8.81e+11 1.37e+11  -1.0 3.06e+03    -  1.00e+00 5.00e-03h  3\n",
      "  21  8.9999971e+04 8.77e+11 1.36e+11  -1.0 3.05e+03    -  1.90e-01 3.78e-03h  3\n",
      "  22  8.9999972e+04 8.76e+11 1.38e+11  -1.0 3.04e+03    -  1.00e+00 1.43e-03h  4\n",
      "  23  8.9999972e+04 8.76e+11 1.41e+11  -1.0 3.03e+03    -  1.98e-01 1.57e-04h  7\n",
      "  24  8.9999972e+04 8.76e+11 2.72e+11  -1.0 3.03e+03    -  1.00e+00 3.86e-05h  9\n",
      "  25  8.9999972e+04 8.76e+11 1.42e+12  -1.0 3.03e+03    -  1.99e-01 1.92e-05h 10\n",
      "  26  8.9999976e+04 1.63e+12 1.41e+12  -1.0 3.03e+03    -  9.81e-03 9.81e-03s 16\n",
      "  27r 8.9999976e+04 1.63e+12 1.00e+03   4.2 0.00e+00    -  0.00e+00 0.00e+00R  1\n",
      "  28r 8.9549579e+04 8.93e+12 5.54e+05   4.2 1.64e+07    -  1.51e-08 1.09e-04f  1\n",
      "  29r 8.9232748e+04 3.01e+13 5.50e+05   3.5 4.33e+06    -  2.53e-05 5.66e-05f  1\n",
      "iter    objective    inf_pr   inf_du lg(mu)  ||d||  lg(rg) alpha_du alpha_pr  ls\n",
      "  30r 7.9546047e+04 2.89e+13 1.02e+08   3.5 1.60e+01   6.0 8.89e-01 3.68e-02f  1\n",
      "  31r 7.9338501e+04 2.89e+13 1.09e+08   3.5 1.59e+01   5.5 2.81e-02 7.07e-04h  1\n",
      "  32r 4.8327680e+04 2.88e+13 1.33e+08   3.5 6.57e+01   5.0 2.20e-03 1.11e-02f  1\n",
      "  33r 5.3120676e+03 2.85e+13 8.26e+09   3.5 9.56e+02   4.6 6.76e-04 1.14e-02h  1\n",
      "  34r 3.1980052e+04 2.62e+13 7.24e+09   3.5 3.15e+01   4.1 1.06e-01 1.33e-01h  1\n",
      "  35r 5.0323575e+04 2.45e+13 6.77e+09   3.5 3.96e+01   3.6 3.16e-02 6.48e-02h  1\n",
      "  36r 2.8532744e+05 1.28e+13 3.66e+09   3.5 3.75e+01   3.1 1.53e-01 4.63e-01f  1\n",
      "  37r 5.4291321e+05 5.27e+12 1.64e+09   3.5 1.99e+01   2.7 7.55e-01 5.53e-01f  1\n",
      "  38r 7.1343212e+05 1.87e+12 5.66e+08   3.5 1.66e+01   2.2 9.91e-01 6.51e-01f  1\n",
      "  39r 8.0164215e+05 1.13e+12 8.37e+07   3.5 1.97e+01   1.7 5.69e-01 8.66e-01f  1\n",
      "iter    objective    inf_pr   inf_du lg(mu)  ||d||  lg(rg) alpha_du alpha_pr  ls\n",
      "  40r 8.1104186e+05 1.38e+12 2.45e+07   3.5 5.91e+01   1.2 7.25e-01 8.24e-01f  1\n",
      "  41r 8.0931626e+05 1.42e+12 1.16e+07   3.5 2.21e+01   1.7 1.00e+00 6.74e-01f  1\n",
      "  42r 7.8244192e+05 1.35e+13 7.64e+06   3.5 8.30e+00   2.1 3.32e-01 5.29e-01f  1\n",
      "  43r 9.3447008e+05 1.55e+12 6.76e+06   3.5 4.80e+01   2.5 6.35e-02 9.36e-02h  1\n",
      "  44r 9.4154501e+05 1.51e+12 6.60e+06   3.5 2.12e+02   2.0 4.39e-02 2.43e-02h  1\n",
      "  45r 9.4065013e+05 1.04e+12 5.12e+06   2.8 4.39e+00   2.5 6.96e-01 1.65e-01f  1\n",
      "  46r 9.3824131e+05 7.85e+11 1.06e+06   2.8 1.75e+00   2.9 1.00e+00 1.00e+00f  1\n",
      "  47r 9.4199709e+05 7.84e+11 6.85e+05   2.8 6.44e+00   2.4 1.00e+00 5.98e-01f  1\n",
      "  48r 9.4130509e+05 9.71e+11 8.07e+06   2.8 4.81e+00   2.8 9.85e-01 1.00e+00f  1\n",
      "  49r 9.4230369e+05 9.83e+11 3.34e+07   2.8 7.00e+00   4.2 2.91e-01 4.44e-02h  1\n",
      "iter    objective    inf_pr   inf_du lg(mu)  ||d||  lg(rg) alpha_du alpha_pr  ls\n",
      "  50r 9.4227912e+05 1.06e+12 6.44e+08   2.1 2.30e+01   3.7 3.27e-01 1.77e-01h  1\n",
      "  51r 9.4220836e+05 1.06e+12 6.43e+08   2.1 1.00e+01   5.0 2.80e-03 8.98e-04h  1\n",
      "  52r 9.3163657e+05 1.09e+12 5.96e+08   2.1 2.14e+00   4.5 2.05e-03 7.72e-02f  1\n",
      "  53r 8.9286399e+05 3.30e+15 1.72e+12   2.1 1.44e+00   5.9 2.04e-01 3.08e-01f  1\n",
      "  54r 8.9251337e+05 3.30e+15 1.72e+12   2.1 3.89e+02   6.3 1.76e-03 4.15e-04h  2\n",
      "  55r 8.9110026e+05 3.30e+15 1.72e+12   2.1 2.47e+03   5.8 3.43e-04 2.65e-04f  2\n",
      "  56r 8.9051214e+05 3.30e+15 1.72e+12   2.1 4.09e+02   6.2 4.50e-03 4.83e-04h  2\n",
      "  57r 8.8990584e+05 3.30e+15 1.72e+12   2.1 3.56e+03   5.8 5.28e-04 5.73e-05h  2\n",
      "  58r 8.8978773e+05 3.30e+15 1.72e+12   2.1 4.29e+02   6.2 5.14e-03 8.20e-05h  3\n",
      "  59r 8.8682887e+05 3.30e+15 1.72e+12   2.1 5.01e+03   5.7 4.17e-04 1.85e-04h  3\n",
      "iter    objective    inf_pr   inf_du lg(mu)  ||d||  lg(rg) alpha_du alpha_pr  ls\n",
      "  60r 8.8279229e+05 3.29e+15 1.71e+12   2.1 4.01e+02   6.1 1.38e-02 2.36e-03h  1\n",
      "  61r 8.7292567e+05 3.29e+15 1.71e+12   2.1 2.54e+03   5.7 1.64e-03 7.98e-04h  2\n",
      "  62r 8.6880135e+05 3.28e+15 1.71e+12   2.1 2.69e+02   6.1 3.55e-02 2.87e-03h  1\n",
      "  63r 8.5839311e+05 3.28e+15 1.70e+12   2.1 1.94e+03   5.6 5.39e-03 1.12e-03h  1\n",
      "  64r 8.5830985e+05 3.28e+15 1.70e+12   2.1 1.65e+02   6.0 3.80e-01 9.52e-05h  1\n",
      "  65r 8.3785598e+05 2.91e+15 1.51e+12   2.1 1.35e+01   5.6 8.56e-01 1.23e-01f  1\n",
      "  66r 8.3053139e+05 2.84e+15 1.47e+12   2.1 8.73e+01   5.1 3.71e-02 2.63e-02f  1\n",
      "  67r 8.3047206e+05 2.84e+15 1.47e+12   2.1 8.32e+01   4.6 7.35e-04 3.39e-04h  1\n",
      "  68r 8.2773974e+05 2.78e+15 1.45e+12   2.1 2.66e+01   5.0 6.10e-01 1.92e-02f  1\n",
      "  69r 8.2745363e+05 2.77e+15 1.44e+12   2.1 9.16e+00   4.6 3.26e-01 3.22e-03h  1\n",
      "iter    objective    inf_pr   inf_du lg(mu)  ||d||  lg(rg) alpha_du alpha_pr  ls\n",
      "  70r 7.6274123e+05 1.59e+15 8.23e+11   2.1 5.22e+00   5.0 5.99e-03 6.45e-01h  1\n",
      "  71r 7.5490931e+05 1.13e+15 5.88e+11   2.1 6.12e+00   4.5 9.36e-01 3.67e-01h  1\n",
      "  72r 7.6691034e+05 5.08e+14 2.61e+11   2.1 1.31e+01   4.0 9.92e-01 1.00e+00h  1\n",
      "  73r 8.1060077e+05 2.75e+14 1.40e+11   2.1 7.19e+01   3.5 5.16e-01 7.36e-01h  1\n",
      "  74r 8.1074632e+05 2.56e+14 1.30e+11   2.1 3.85e+02   3.1 8.42e-03 7.31e-02h  1\n",
      "  75r 8.1050479e+05 2.51e+14 1.27e+11   2.1 1.58e+01   4.4 1.00e+00 1.94e-02h  1\n",
      "  76r 8.1049560e+05 2.51e+14 1.27e+11   2.1 8.58e+00   3.9 8.56e-01 1.08e-03h  1\n",
      "  77r 8.0902347e+05 2.23e+14 1.13e+11   2.1 3.90e+00   4.3 1.00e+00 1.24e-01h  1\n",
      "  78r 8.0328537e+05 7.17e+13 7.54e+10   2.1 9.76e+00   3.9 6.39e-01 1.00e+00h  1\n",
      "  79r 8.0637619e+05 5.86e+13 6.09e+10   2.1 2.26e+01   3.4 6.24e-01 2.22e-01h  1\n",
      "iter    objective    inf_pr   inf_du lg(mu)  ||d||  lg(rg) alpha_du alpha_pr  ls\n",
      "  80r 8.1000675e+05 4.85e+13 4.96e+10   2.1 3.52e+01   2.9 1.00e+00 2.11e-01h  1\n",
      "  81r 8.1995484e+05 3.37e+13 3.13e+10   2.1 5.08e+01   2.4 9.78e-02 4.80e-01h  1\n",
      "  82r 8.2804225e+05 2.90e+13 2.59e+10   2.1 3.27e+02   2.0 1.11e-01 1.76e-01h  1\n",
      "  83r 8.3997591e+05 2.75e+13 2.44e+10   2.1 1.69e+03   1.5 6.02e-02 5.57e-02h  1\n",
      "  84r 8.6060080e+05 2.69e+13 2.38e+10   2.1 7.57e+03   1.0 2.74e-02 2.19e-02h  2\n",
      "  85r 8.6121994e+05 2.69e+13 2.38e+10   2.1 5.42e+04   0.5 7.05e-03 9.23e-05h  8\n",
      "  86r 8.6124630e+05 2.69e+13 2.38e+10   2.1 1.05e+04   1.0 7.40e-02 2.01e-05h 12\n",
      "  87r 9.0693316e+05 2.72e+13 2.37e+10   2.1 7.54e+04   0.5 4.83e-03 4.83e-03s 16\n",
      "  88r 9.4252954e+05 2.66e+13 2.32e+10   2.1 1.41e+04   0.9 1.96e-02 1.96e-02s 16\n",
      "  89r 9.4304423e+05 2.66e+13 2.31e+10   2.1 5.14e+03   1.3 7.64e-04 7.64e-04s 16\n",
      "iter    objective    inf_pr   inf_du lg(mu)  ||d||  lg(rg) alpha_du alpha_pr  ls\n",
      "  90r 9.4444799e+05 2.66e+13 2.31e+10   2.1 2.18e+04   0.9 4.98e-04 4.98e-04s 16\n",
      "  91r 9.5536933e+05 2.62e+13 2.28e+10   2.1 5.96e+03   1.3 1.40e-02 1.40e-02s 16\n",
      "  92r 9.8511526e+05 2.60e+13 2.26e+10   2.1 3.30e+04   0.8 6.93e-03 6.93e-03s 16\n",
      "  93r 9.8511526e+05 2.60e+13 2.26e+10   2.1 8.86e+03   1.2 0.00e+00 0.00e+00R  1\n",
      "  94r 1.0300611e+06 2.60e+13 1.01e+10   2.1 4.78e+02   0.8 8.04e-01 1.00e+00F  1\n",
      "  95r 1.0337343e+06 2.60e+13 4.68e+09   2.1 5.41e+02   0.3 4.97e-01 2.39e-01f  1\n",
      "  96r 1.0462757e+06 2.60e+13 8.31e+08   2.1 1.65e+03  -0.2 9.89e-01 1.83e-01f  1\n",
      "  97r 1.0463897e+06 2.60e+13 9.14e+08   2.1 6.02e+02   0.2 7.38e-01 7.65e-03f  1\n",
      "  98r 1.0601023e+06 2.59e+13 7.51e+08   2.1 1.82e+03  -0.3 6.91e-01 1.90e-01f  1\n",
      "  99r 1.0615104e+06 2.59e+13 7.23e+08   2.1 5.67e+03  -0.7 3.55e-01 6.72e-03f  1\n",
      "iter    objective    inf_pr   inf_du lg(mu)  ||d||  lg(rg) alpha_du alpha_pr  ls\n",
      " 100r 1.1733146e+06 2.57e+13 6.33e+08   2.1 2.27e+04  -1.2 1.26e-01 9.09e-02f  1\n",
      " 101r 1.3350557e+06 2.53e+13 2.62e+08   2.1 6.48e+03  -0.8 1.00e+00 6.28e-01f  1\n",
      " 102r 1.3375648e+06 2.53e+13 2.62e+08   2.1 2.08e+04  -1.3 3.46e-01 2.44e-03f  1\n",
      " 103r 1.8745377e+06 2.26e+13 3.01e+08   2.1 6.49e+05  -1.7 1.96e-03 7.64e-03f  1\n",
      " 104r 1.8791004e+06 2.26e+13 2.90e+08   2.1 4.24e+04  -1.3 7.50e-03 1.18e-03f  1\n",
      " 105r 1.8791412e+06 2.26e+13 4.30e+08   2.1 8.03e+03  -0.9 1.00e+00 4.09e-04f  1\n",
      " 106r 1.8884638e+06 2.26e+13 2.77e+08   2.1 3.30e+04  -1.4 1.00e+00 1.30e-02f  1\n",
      " 107r 1.8894534e+06 2.16e+13 1.12e+09   2.1 1.86e+05  -1.8 4.46e-01 7.14e-02f  1\n",
      " 108r 1.8897661e+06 2.15e+13 6.79e+08   2.1 4.58e+04  -1.4 1.00e+00 3.42e-02f  1\n",
      " 109r 1.8926869e+06 2.17e+13 1.56e+08   2.1 1.26e+04  -1.0 1.00e+00 3.32e-01f  1\n",
      "iter    objective    inf_pr   inf_du lg(mu)  ||d||  lg(rg) alpha_du alpha_pr  ls\n",
      " 110r 1.8949868e+06 2.18e+13 4.98e+08   2.1 6.67e+04  -1.5 7.05e-01 3.89e-01f  1\n",
      " 111r 1.8952196e+06 2.11e+13 1.05e+09   2.1 1.67e+05  -1.0 5.29e-04 6.31e-02f  1\n",
      " 112r 1.8955559e+06 2.09e+13 3.71e+09   2.1 8.99e+03   0.3 1.71e-03 9.88e-02h  1\n",
      " 113r 1.8955652e+06 2.09e+13 3.52e+09   2.1 7.26e+04   0.7 2.82e-03 2.55e-03h  1\n",
      " 114r 1.8958482e+06 2.08e+13 9.68e+09   2.1 6.21e+03   1.1 6.86e-04 4.21e-02h  1\n",
      " 115r 1.8959076e+06 2.08e+13 1.61e+10   2.1 1.00e+04   1.6 4.38e-02 5.68e-03h  1\n",
      " 116r 1.8964091e+06 2.07e+13 7.36e+10   2.1 2.83e+03   2.0 2.24e-01 1.00e-01h  1\n",
      " 117r 1.8964419e+06 2.07e+13 1.30e+12   2.1 2.12e+03   3.3 1.61e-01 7.75e-03h  1\n",
      " 118r 1.8964420e+06 2.07e+13 2.05e+12   2.1 3.10e+03   3.7 2.48e-02 3.10e-05h  1\n",
      " 119r 1.8964406e+06 2.07e+13 1.43e+12   2.1 4.11e+03   3.3 4.09e-02 2.65e-03f  1\n",
      "iter    objective    inf_pr   inf_du lg(mu)  ||d||  lg(rg) alpha_du alpha_pr  ls\n",
      " 120r 1.8964311e+06 2.07e+13 1.02e+12   2.1 4.10e+03   2.8 8.04e-02 1.84e-02f  1\n",
      " 121r 1.8964303e+06 2.07e+13 8.86e+11   2.1 4.03e+03   4.1 2.85e-03 1.55e-03f  1\n",
      " 122r 1.8964295e+06 2.07e+13 1.19e+12   2.1 4.02e+03   4.6 2.59e-04 1.43e-03f  1\n",
      " 123r 1.8964286e+06 2.07e+13 1.36e+12   2.1 3.92e+03   4.1 8.07e-06 2.04e-03f  1\n",
      " 124r 1.8964286e+06 2.07e+13 1.36e+12   2.1 2.62e+03   3.6 1.32e-04 7.68e-05h  1\n",
      " 125r 1.8964287e+06 2.07e+13 1.37e+12   2.1 3.20e+03   3.1 3.92e-04 1.49e-03f  1\n",
      " 126r 1.8964289e+06 2.07e+13 1.37e+12   2.1 3.68e+03   2.6 1.19e-04 8.41e-05F  1\n",
      " 127r 1.8964290e+06 2.07e+13 1.35e+12   2.1 2.61e+03   4.0 7.10e-04 1.49e-04h  1\n",
      " 128r 1.8964297e+06 2.07e+13 1.35e+12   2.1 2.64e+03   3.5 1.41e-03 1.34e-03f  1\n",
      " 129r 1.8964297e+06 2.07e+13 1.35e+12   2.1 3.37e+03   3.0 2.92e-05 2.66e-05F  1\n",
      "iter    objective    inf_pr   inf_du lg(mu)  ||d||  lg(rg) alpha_du alpha_pr  ls\n",
      " 130r 1.8964318e+06 2.07e+13 1.41e+12   2.1 2.78e+03   3.4 5.85e-05 5.02e-03f  2\n",
      " 131r 1.8964335e+06 2.07e+13 1.29e+12   2.1 2.31e+03   3.9 5.99e-03 2.37e-03f  1\n",
      " 132r 1.8964341e+06 2.06e+13 1.39e+12   2.1 3.16e+03   3.4 2.24e-04 7.55e-03f  1\n",
      " 133r 1.8964337e+06 2.06e+13 1.39e+12   2.1 3.65e+03   2.9 3.66e-04 1.16e-03f  1\n",
      " 134r 1.8964337e+06 2.06e+13 1.39e+12   2.1 3.25e+03   3.3 5.45e-04 6.41e-04f  1\n",
      " 135r 1.8964318e+06 2.06e+13 1.41e+12   2.1 3.65e+03   2.9 2.26e-03 6.18e-03f  1\n",
      " 136r 1.8964315e+06 2.06e+13 1.39e+12   2.1 3.32e+03   3.3 4.32e-03 3.54e-03f  1\n",
      " 137r 1.8964272e+06 2.06e+13 1.23e+12   2.1 3.69e+03   2.8 4.21e-02 1.20e-02f  4\n",
      " 138r 1.8964135e+06 2.06e+13 1.75e+12   2.1 3.42e+03   3.2 1.35e-02 6.85e-02f  1\n",
      " 139r 1.8963649e+06 2.05e+13 1.80e+12   2.1 3.55e+03   2.8 3.94e-04 2.23e-02f  1\n",
      "iter    objective    inf_pr   inf_du lg(mu)  ||d||  lg(rg) alpha_du alpha_pr  ls\n",
      " 140r 1.8962458e+06 2.05e+13 1.79e+12   2.1 1.97e+02   3.2 4.62e-05 3.88e-03f  1\n",
      " 141r 1.8962408e+06 2.05e+13 1.79e+12   2.1 2.29e+02   2.7 2.54e-03 9.29e-05h  1\n",
      " 142r 1.8959511e+06 2.05e+13 1.78e+12   2.1 6.56e+01   3.1 1.51e-04 5.96e-03f  1\n",
      " 143r 1.8959503e+06 2.05e+13 1.78e+12   2.1 8.95e+01   3.6 7.62e-03 4.30e-05h  1\n",
      " 144r 1.8924931e+06 2.05e+13 1.76e+12   2.1 3.61e+01   4.0 8.35e-04 1.28e-02f  1\n",
      " 145r 1.8922369e+06 2.05e+13 1.76e+12   2.1 1.24e+01   3.5 5.88e-03 3.74e-04h  1\n",
      " 146r 1.8684097e+06 2.04e+13 1.69e+12   2.1 1.39e+01   3.0 7.07e-02 3.61e-02f  1\n",
      " 147r 1.8642021e+06 2.04e+13 1.68e+12   2.1 1.09e+02   2.6 1.73e-04 5.38e-03f  1\n",
      " 148r 1.8598602e+06 2.04e+13 1.68e+12   2.1 2.68e+02   3.0 3.49e-04 2.19e-03h  2\n",
      " 149r 1.8517473e+06 2.04e+13 1.65e+12   2.1 3.20e+01   3.4 2.42e-02 1.92e-02h  1\n",
      "iter    objective    inf_pr   inf_du lg(mu)  ||d||  lg(rg) alpha_du alpha_pr  ls\n",
      " 150r 1.8237941e+06 2.04e+13 1.58e+12   2.1 1.33e+01   2.9 6.57e-02 3.87e-02f  2\n",
      " 151r 1.5661486e+06 1.98e+13 8.85e+11   2.1 5.24e+00   3.4 1.06e-01 4.42e-01f  1\n",
      " 152r 1.2715656e+06 1.90e+13 3.15e+08   2.1 1.89e+00   3.8 2.06e-01 1.00e+00f  1\n",
      " 153r 1.2979888e+06 1.90e+13 2.19e+08   2.1 2.83e+00   3.3 1.60e-01 3.03e-01f  1\n",
      " 154r 1.3153043e+06 1.90e+13 1.70e+08   2.1 2.61e+00   2.8 8.64e-01 2.26e-01f  1\n",
      " 155r 1.3074487e+06 1.90e+13 1.60e+08   2.1 7.05e+00   2.4 1.18e-01 5.99e-02f  1\n",
      " 156r 1.2809064e+06 1.90e+13 1.30e+08   2.1 1.53e+01   1.9 6.87e-01 1.87e-01f  1\n",
      " 157r 1.2732498e+06 1.90e+13 9.92e+07   2.1 4.56e+01   1.4 5.26e-01 2.36e-01f  1\n",
      " 158r 1.2648459e+06 1.90e+13 5.69e+07   2.1 1.71e+01   1.8 7.53e-01 4.26e-01f  1\n",
      " 159r 1.2635092e+06 1.90e+13 4.87e+07   2.1 5.00e+01   1.3 9.90e-01 1.45e-01f  1\n",
      "iter    objective    inf_pr   inf_du lg(mu)  ||d||  lg(rg) alpha_du alpha_pr  ls\n",
      " 160r 1.2552194e+06 1.90e+13 4.87e+07   2.1 2.82e+10    -  5.58e-06 1.93e-06f  1\n",
      " 161r 1.2307558e+06 1.90e+13 4.44e+07   2.1 2.49e+02   0.9 7.30e-01 8.89e-02f  1\n",
      " 162r 1.1812958e+06 1.88e+13 4.44e+07   2.1 3.29e+08    -  5.51e-05 2.23e-05f  1\n",
      " 163r 1.1812258e+06 1.88e+13 3.63e+07   2.1 4.06e+02   0.4 3.62e-02 1.82e-01f  1\n",
      " 164r 1.2037023e+06 1.88e+13 3.13e+07   2.1 1.76e+00   3.5 4.75e-01 1.38e-01h  1\n",
      " 165r 1.1958650e+06 1.88e+13 2.31e+07   2.1 1.12e+00   3.0 1.56e-01 2.61e-01f  1\n",
      " 166r 1.1992735e+06 1.88e+13 2.31e+07   2.1 1.22e+02   3.5 2.90e-04 5.64e-04h  2\n",
      " 167r 1.2013096e+06 1.88e+13 2.19e+07   2.1 1.33e+00   3.9 1.75e-01 5.21e-02h  1\n",
      " 168r 1.1810747e+06 1.89e+13 2.57e+06   2.1 1.22e+00   3.4 6.13e-01 9.82e-01f  1\n",
      " 169r 1.1695983e+06 1.89e+13 2.42e+06   2.1 8.57e+00   2.9 8.37e-02 6.89e-02h  1\n",
      "iter    objective    inf_pr   inf_du lg(mu)  ||d||  lg(rg) alpha_du alpha_pr  ls\n",
      " 170r 1.1586041e+06 1.89e+13 1.52e+06   2.1 8.85e+00   2.5 7.66e-02 2.38e-01f  1\n",
      " 171r 1.0467793e+06 1.84e+13 1.51e+06   2.1 5.23e+07    -  8.48e-05 1.00e-04f  1\n",
      " 172r 1.0122086e+06 1.84e+13 1.13e+06   2.1 5.98e+00   2.9 6.64e-02 2.36e-01h  1\n",
      " 173r 1.0032474e+06 1.82e+13 1.12e+06   2.1 1.38e+08    -  5.74e-05 5.00e-05f  1\n",
      " 174r 9.6698434e+05 1.80e+13 1.14e+06   2.1 8.64e+06    -  9.28e-05 2.02e-04f  1\n",
      " 175r 9.5489567e+05 1.70e+13 1.15e+06   2.1 2.18e+08    -  4.25e-06 4.78e-05f  1\n",
      " 176r 9.4717124e+05 1.63e+13 1.15e+06   2.1 2.57e+08    -  4.22e-05 2.53e-05f  1\n",
      " 177r 9.2174191e+05 1.32e+13 1.15e+06   2.1 9.02e+08    -  1.83e-05 3.41e-05f  1\n",
      " 178r 8.8526484e+05 1.26e+13 1.15e+06   2.1 2.43e+08    -  3.74e-06 2.67e-05f  1\n",
      " 179r 8.3396494e+05 1.17e+13 1.15e+06   2.1 2.53e+08    -  1.83e-04 3.50e-05f  1\n",
      "iter    objective    inf_pr   inf_du lg(mu)  ||d||  lg(rg) alpha_du alpha_pr  ls\n",
      " 180r 5.3388300e+05 6.54e+12 1.12e+06   2.1 5.61e+08    -  3.27e-06 9.23e-05f  1\n",
      " 181r 5.2620485e+05 6.42e+12 1.12e+06   2.1 4.35e+08    -  6.16e-05 2.85e-06f  1\n",
      " 182r 4.4597167e+05 5.13e+12 1.11e+06   2.1 3.22e+08    -  1.50e-04 4.01e-05f  1\n",
      " 183r 2.2104444e+05 2.71e+12 1.08e+06   2.1 3.60e+08    -  3.37e-06 1.26e-04f  1\n",
      " 184r 2.1941756e+05 2.70e+12 1.08e+06   2.1 6.31e+07    -  1.20e-04 7.19e-06f  1\n",
      " 185r 2.2672108e+05 2.29e+12 1.08e+06   2.1 3.96e+07    -  6.83e-04 9.77e-05f  1\n",
      " 186r 2.7309116e+05 8.42e+11 1.09e+06   2.1 6.05e+07    -  2.68e-04 4.16e-04f  1\n",
      " 187r 2.7341024e+05 8.67e+11 1.09e+06   2.1 8.21e+08    -  9.45e-05 3.07e-07f  1\n",
      " 188r 2.7341318e+05 8.68e+11 1.09e+06   2.1 5.91e+05    -  6.78e-01 4.26e-06f  1\n",
      " 189r 2.1894944e+05 2.88e+11 3.76e+05   2.1 1.25e+01    -  7.97e-01 6.83e-01f  1\n",
      "iter    objective    inf_pr   inf_du lg(mu)  ||d||  lg(rg) alpha_du alpha_pr  ls\n",
      " 190  2.1898164e+05 2.88e+11 1.39e+03  -1.0 2.33e+03    -  2.79e-05 3.96e-05H  1\n",
      " 191  2.1897871e+05 2.88e+11 1.39e+03  -1.0 1.71e+04    -  8.20e-06 2.32e-06H  1\n",
      " 192  2.1852314e+05 2.87e+11 8.13e+03  -1.0 1.71e+04    -  1.23e-05 3.26e-04f  1\n",
      " 193  2.1852268e+05 2.87e+11 8.13e+03  -1.0 1.72e+04    -  5.35e-06 3.42e-07H  1\n",
      " 194  2.1852267e+05 2.87e+11 8.13e+03  -1.0 1.72e+04    -  4.53e-06 2.71e-09H  1\n",
      " 195r 2.1852267e+05 2.87e+11 1.00e+03   3.5 0.00e+00    -  0.00e+00 8.40e-09R  2\n",
      " 196r 2.0137697e+05 2.65e+11 1.50e+04   3.5 2.87e+06    -  5.63e-02 9.91e-04f  1\n",
      " 197r 1.9268116e+05 1.83e+11 7.19e+03   2.1 1.25e+04    -  7.40e-01 5.67e-02f  1\n",
      " 198  1.9228906e+05 1.83e+11 1.30e+03  -1.0 2.20e+04    -  8.72e-04 2.77e-04h  2\n",
      " 199r 1.9228906e+05 1.83e+11 9.99e+02   3.3 0.00e+00    -  0.00e+00 2.89e-07R  9\n",
      "iter    objective    inf_pr   inf_du lg(mu)  ||d||  lg(rg) alpha_du alpha_pr  ls\n",
      " 200r 1.9241863e+05 6.75e+09 1.90e+04   3.3 1.83e+06    -  1.19e-01 9.90e-04f  1\n",
      " 201  1.9213560e+05 6.75e+09 1.29e+03  -1.0 2.19e+04    -  7.23e-04 1.99e-04f  2\n",
      " 202r 1.9213560e+05 6.75e+09 9.99e+02   1.8 0.00e+00    -  0.00e+00 3.04e-07R  9\n",
      " 203r 1.9182863e+05 1.70e+09 9.93e+02   1.8 6.75e+04    -  1.44e-01 9.90e-04f  1\n",
      " 204  1.9169218e+05 1.73e+09 1.29e+03  -1.0 1.98e+04    -  1.24e-04 1.01e-04f  2\n",
      " 205  1.8782285e+05 4.79e+10 5.04e+03  -1.0 1.80e+04    -  1.33e-04 2.99e-03f  2\n",
      " 206  1.7278247e+05 2.26e+11 4.49e+04  -1.0 1.53e+03    -  7.01e-02 4.03e-02f  1\n",
      " 207  1.7275875e+05 1.00e+11 5.37e+04  -1.0 1.46e+03    -  3.19e-05 6.59e-05H  1\n",
      " 208  1.7159036e+05 5.26e+10 1.78e+04  -1.0 1.46e+03    -  4.67e-05 3.33e-03f  2\n",
      " 209  1.3502882e+05 3.80e+11 8.51e+06  -1.0 1.45e+03    -  1.48e-02 1.14e-01F  1\n",
      "iter    objective    inf_pr   inf_du lg(mu)  ||d||  lg(rg) alpha_du alpha_pr  ls\n",
      " 210  1.3418254e+05 3.31e+11 7.10e+06  -1.0 1.26e+03   3.0 3.92e-05 3.14e-03f  2\n",
      " 211  1.3390846e+05 3.30e+11 5.54e+06  -1.0 1.16e+03   4.3 5.77e-04 9.48e-04h  2\n",
      " 212  1.3355315e+05 3.27e+11 6.57e+07  -1.0 9.28e+03   4.7 7.18e-04 1.44e-04h  2\n",
      " 213  1.1630798e+05 6.35e+11 6.07e+07  -1.0 1.23e+03    -  4.38e-01 6.55e-02h  2\n",
      " 214  1.7515072e+03 7.33e+12 3.36e+09  -1.0 1.16e+03    -  6.19e-01 9.52e-01f  1\n",
      " 215  1.2406793e+03 7.33e+12 4.64e+09  -1.0 1.73e+03   6.1 7.08e-03 6.46e-04h  2\n",
      " 216  4.0732436e+02 3.13e+12 2.69e+11  -1.0 1.13e+02    -  3.54e-02 1.00e+00h  1\n",
      " 217  2.9879330e+02 2.76e+12 1.44e+12  -1.0 4.89e+00   6.5 1.00e+00 5.00e-01h  2\n",
      " 218  6.6536062e+02 2.66e+12 1.08e+12  -1.0 2.42e+00   6.9 1.00e+00 2.50e-01h  3\n",
      " 219  3.7285355e+03 2.52e+12 1.10e+12  -1.0 1.84e+00   7.4 1.00e+00 1.00e+00h  1\n",
      "iter    objective    inf_pr   inf_du lg(mu)  ||d||  lg(rg) alpha_du alpha_pr  ls\n",
      " 220  4.5965792e+03 2.44e+12 1.94e+12  -1.0 3.04e+00   7.8 3.38e-01 1.25e-01h  4\n",
      " 221  4.8720297e+03 2.42e+12 4.99e+12  -1.0 1.58e+00   9.1 1.00e+00 4.36e-01h  1\n",
      " 222  3.7910315e+03 2.02e+12 1.55e+13  -1.0 2.54e+00   8.6 1.00e+00 1.65e-01h  1\n",
      " 223  3.7789132e+03 2.01e+12 1.55e+13  -1.0 2.13e+00   8.2 1.00e+00 2.33e-03h  1\n",
      " 224  3.7663297e+02 1.28e+11 9.59e+12  -1.0 2.12e+00    -  1.00e+00 1.00e+00h  1\n",
      " 225  3.0052595e+02 3.27e+09 4.66e+09  -1.0 1.09e-02    -  9.91e-01 1.00e+00h  1\n",
      " 226  3.0034588e+02 2.95e+06 6.49e+04  -1.0 3.36e-04    -  9.90e-01 1.00e+00h  1\n",
      " 227  3.0024265e+02 1.37e+07 6.27e+00  -1.0 3.35e-02    -  1.00e+00 1.00e+00f  1\n",
      " 228  2.9851963e+02 1.20e+10 3.13e+00  -1.0 9.19e-01    -  1.00e+00 5.00e-01f  2\n",
      " 229  2.7730565e+02 1.98e+10 3.25e-01  -1.0 1.33e-01    -  1.00e+00 1.00e+00h  1\n",
      "iter    objective    inf_pr   inf_du lg(mu)  ||d||  lg(rg) alpha_du alpha_pr  ls\n",
      " 230  2.6958033e+02 1.18e+09 8.48e+08  -1.0 1.70e-02   7.7 1.00e+00 1.00e+00h  1\n",
      " 231  2.6869969e+02 2.22e+05 9.73e+07  -1.0 1.28e-03    -  1.00e+00 1.00e+00h  1\n",
      " 232  2.6836483e+02 3.63e+06 2.80e+03  -1.0 1.07e-03    -  1.00e+00 1.00e+00h  1\n",
      " 233  2.6836311e+02 2.94e+01 4.78e+01  -1.0 2.99e-06   7.2 1.00e+00 1.00e+00h  1\n",
      " 234  2.6829801e+02 1.35e+05 5.44e+02  -2.5 2.05e-04    -  1.00e+00 1.00e+00h  1\n",
      " 235  2.6829794e+02 2.12e-01 5.41e-01  -2.5 1.02e-07   6.7 1.00e+00 1.00e+00h  1\n",
      " 236  2.6213854e+02 1.40e+09 6.96e+02  -2.5 1.94e-02    -  1.00e+00 1.00e+00f  1\n",
      " 237  2.6163360e+02 7.11e+06 1.40e+05  -2.5 1.20e-03   6.2 1.00e+00 1.00e+00h  1\n",
      " 238  2.6162604e+02 1.48e+02 2.10e+03  -2.5 1.11e-05    -  1.00e+00 1.00e+00h  1\n",
      " 239  2.6162597e+02 1.64e-01 9.71e-02  -2.5 1.64e-07   5.8 1.00e+00 1.00e+00h  1\n",
      "iter    objective    inf_pr   inf_du lg(mu)  ||d||  lg(rg) alpha_du alpha_pr  ls\n",
      " 240  2.6162577e+02 1.26e+00 9.71e-02  -2.5 4.93e-07   5.3 1.00e+00 1.00e+00h  1\n",
      " 241  2.6162515e+02 1.05e+01 9.71e-02  -2.5 1.48e-06   4.8 1.00e+00 1.00e+00h  1\n",
      " 242  2.6162329e+02 9.33e+01 9.71e-02  -2.5 4.44e-06   4.3 1.00e+00 1.00e+00h  1\n",
      " 243  2.6161770e+02 8.39e+02 9.71e-02  -2.5 1.33e-05   3.9 1.00e+00 1.00e+00h  1\n",
      " 244  2.6160094e+02 7.55e+03 9.72e-02  -2.5 3.99e-05   3.4 1.00e+00 1.00e+00h  1\n",
      " 245  2.6155060e+02 6.82e+04 9.72e-02  -2.5 1.20e-04   2.9 1.00e+00 1.00e+00h  1\n",
      " 246  2.6139901e+02 6.18e+05 9.74e-02  -2.5 3.60e-04   2.4 1.00e+00 1.00e+00h  1\n",
      " 247  2.6093926e+02 5.69e+06 9.79e-02  -2.5 1.09e-03   2.0 1.00e+00 1.00e+00h  1\n",
      " 248  2.5951437e+02 5.49e+07 6.46e-01  -2.5 3.31e-03   1.5 1.00e+00 1.00e+00h  1\n",
      " 249  2.5481229e+02 6.10e+08 6.76e+00  -2.5 1.03e-02   1.0 1.00e+00 1.00e+00h  1\n",
      "iter    objective    inf_pr   inf_du lg(mu)  ||d||  lg(rg) alpha_du alpha_pr  ls\n",
      " 250  2.3669138e+02 5.85e+09 8.72e+01  -2.5 3.35e-02   0.5 1.00e+00 1.00e+00h  1\n",
      " 251  1.8257599e+02 1.02e+11 9.95e+01  -2.5 8.92e-02   0.0 1.00e+00 1.00e+00h  1\n",
      " 252  3.4994937e+00 2.77e+12 1.00e+04  -2.5 7.31e-01    -  1.00e+00 1.00e+00h  1\n",
      " 253  3.6720156e+00 1.05e+12 6.40e+00  -2.5 1.85e-02    -  1.00e+00 1.00e+00h  1\n",
      " 254  2.2441253e+00 3.28e+11 9.12e-01  -2.5 1.93e-02    -  1.00e+00 1.00e+00h  1\n",
      " 255  4.2431483e-01 7.22e+10 3.99e-01  -2.5 3.90e-02    -  1.00e+00 1.00e+00h  1\n",
      " 256  1.7390966e-03 8.01e+09 7.08e-02  -2.5 2.82e-02    -  1.00e+00 1.00e+00h  1\n",
      " 257  6.7951810e-03 1.77e+08 1.95e-03  -2.5 5.76e-03    -  1.00e+00 1.00e+00h  1\n",
      " 258  7.3643055e-03 1.07e+05 1.29e-06  -2.5 1.57e-04    -  1.00e+00 1.00e+00h  1\n",
      " 259  1.9125149e-05 1.29e+07 5.18e-02  -3.8 3.76e-03    -  1.00e+00 1.00e+00h  1\n",
      "iter    objective    inf_pr   inf_du lg(mu)  ||d||  lg(rg) alpha_du alpha_pr  ls\n",
      " 260  2.0738168e-05 4.48e+02 2.81e-08  -3.8 8.70e-06    -  1.00e+00 1.00e+00h  1\n",
      " 261  3.0578693e-09 3.91e+04 1.59e-04  -5.7 2.08e-04    -  1.00e+00 1.00e+00h  1\n",
      " 262  3.1187704e-09 1.99e-01 2.62e-13  -5.7 2.64e-08    -  1.00e+00 1.00e+00h  1\n",
      " 263  5.7410762e-15 5.91e+00 2.44e-08  -8.6 2.58e-06    -  1.00e+00 1.00e+00h  1\n",
      " 264  5.7538493e-15 8.29e-02 3.03e-14  -8.6 4.11e-12    -  1.00e+00 1.00e+00h  1\n",
      " 265  4.0666368e-15 8.10e-02 2.57e-08  -9.0 2.23e-09    -  1.00e+00 2.50e-01h  3\n",
      " 266  4.0666150e-15 7.54e-02 2.57e-08  -9.0 1.68e-09    -  1.00e+00 3.81e-06h 19\n",
      " 267  4.0666150e-15 7.33e-02 2.57e-08  -9.0 1.68e-09    -  1.00e+00 9.54e-07h 21\n",
      " 268  7.5725667e-16 1.06e-01 8.01e-14  -9.0 1.68e-09    -  1.00e+00 1.00e+00s 22\n",
      " 269  7.5726293e-16 1.06e-01 1.71e-13  -9.0 8.53e-14    -  1.00e+00 1.00e+00   0\n",
      "iter    objective    inf_pr   inf_du lg(mu)  ||d||  lg(rg) alpha_du alpha_pr  ls\n",
      " 270  7.5725667e-16 1.06e-01 8.02e-14  -9.0 8.54e-14    -  1.00e+00 1.00e+00T  0\n",
      "\n",
      "Number of Iterations....: 270\n",
      "\n",
      "                                   (scaled)                 (unscaled)\n",
      "Objective...............:   3.5421860914627651e-19    7.5725666837397921e-16\n",
      "Dual infeasibility......:   8.0180979854826337e-14    1.7141273807766908e-10\n",
      "Constraint violation....:   1.0610602885208208e-09    1.0610602885208208e-01\n",
      "Variable bound violation:   0.0000000000000000e+00    0.0000000000000000e+00\n",
      "Complementarity.........:   9.0909090909091117e-10    1.9434753999131950e-06\n",
      "Overall NLP error.......:   1.0610602885208208e-09    1.0610602885208208e-01\n",
      "\n",
      "\n",
      "Number of objective function evaluations             = 543\n",
      "Number of objective gradient evaluations             = 109\n",
      "Number of equality constraint evaluations            = 544\n",
      "Number of inequality constraint evaluations          = 0\n",
      "Number of equality constraint Jacobian evaluations   = 276\n",
      "Number of inequality constraint Jacobian evaluations = 0\n",
      "Number of Lagrangian Hessian evaluations             = 271\n",
      "Total seconds in IPOPT                               = 0.945\n",
      "\n",
      "EXIT: Search Direction is becoming Too Small.\n",
      "      solver  :   t_proc      (avg)   t_wall      (avg)    n_eval\n",
      "       nlp_f  |   8.71ms ( 16.04us)   8.94ms ( 16.46us)       543\n",
      "       nlp_g  |  98.27ms (180.64us)  99.95ms (183.73us)       544\n",
      "  nlp_grad_f  |   5.04ms ( 45.83us)   5.35ms ( 48.61us)       110\n",
      "  nlp_hess_l  | 336.19ms (  1.26ms) 349.59ms (  1.31ms)       267\n",
      "   nlp_jac_g  | 186.05ms (671.66us) 195.75ms (706.66us)       277\n",
      "       total  | 907.28ms (907.28ms) 945.09ms (945.09ms)         1\n"
     ]
    }
   ],
   "source": [
    "options = {\n",
    "    # \"ipopt.max_iter\": 1000,\n",
    "    # \"ipopt.tol\": 1e-2,\n",
    "    # \"ipopt.constr_viol_tol\": 1e-6,\n",
    "    # \"ipopt.hessian_approximation\": \"limited-memory\",\n",
    "}\n",
    "\n",
    "dvs_opt_flat = arc.minimize(\n",
    "    obj,\n",
    "    dvs_guess_flat,\n",
    "    constr=residual,\n",
    "    bounds=(lb_flat, ub_flat),\n",
    "    **options,\n",
    ")"
   ]
  },
  {
   "cell_type": "code",
   "execution_count": 27,
   "metadata": {},
   "outputs": [
    {
     "data": {
      "text/plain": [
       "array(0.)"
      ]
     },
     "execution_count": 27,
     "metadata": {},
     "output_type": "execute_result"
    }
   ],
   "source": [
    "obj(dvs_opt_flat)"
   ]
  },
  {
   "cell_type": "code",
   "execution_count": 28,
   "metadata": {},
   "outputs": [
    {
     "data": {
      "text/plain": [
       "array([-0.032,  0.   , -0.   ,  0.106,  0.   ,  0.   , -0.075,  0.052,\n",
       "        0.   ,  0.   , -0.002,  0.   ,  0.   , -0.051,  0.   ,  0.   ,\n",
       "        0.   ,  0.   ])"
      ]
     },
     "execution_count": 28,
     "metadata": {},
     "output_type": "execute_result"
    }
   ],
   "source": [
    "residual(dvs_opt_flat)"
   ]
  },
  {
   "cell_type": "code",
   "execution_count": 29,
   "metadata": {},
   "outputs": [
    {
     "data": {
      "text/plain": [
       "OrderedDict([('pos_fv', array(0.18)), ('pos_ov', array(0.175))])"
      ]
     },
     "execution_count": 29,
     "metadata": {},
     "output_type": "execute_result"
    }
   ],
   "source": [
    "x_opt, u_valve_opt = unravel(dvs_opt_flat)\n",
    "\n",
    "u_opt = u0.replace(**u_valve_opt)\n",
    "\n",
    "u_valve_opt"
   ]
  },
  {
   "cell_type": "code",
   "execution_count": 30,
   "metadata": {},
   "outputs": [
    {
     "name": "stdout",
     "output_type": "stream",
     "text": [
      "Thrust: 300.00 N\n",
      "Isp: 241.11 s\n"
     ]
    }
   ],
   "source": [
    "F_max = model.thrust(x_opt, u_opt)\n",
    "\n",
    "# Exhaust mass flow rate [kg/s]\n",
    "dm_e = x_opt.noz.dm\n",
    "\n",
    "# Specific impulse at max thrust [s]\n",
    "Isp = F_max / (dm_e * g0)\n",
    "\n",
    "print(f\"Thrust: {F_max:.2f} N\")\n",
    "print(f\"Isp: {Isp:.2f} s\")"
   ]
  },
  {
   "cell_type": "markdown",
   "metadata": {},
   "source": [
    "# Control"
   ]
  },
  {
   "cell_type": "code",
   "execution_count": 31,
   "metadata": {},
   "outputs": [],
   "source": [
    "x0_flat, unravel_state = arc.tree.ravel(x_opt)\n",
    "u0_flat, unravel_input = arc.tree.ravel(u_valve_opt)\n",
    "y0_flat = np.stack([F_max, model.OF_stoich])\n",
    "\n",
    "n, m, p = x0_flat.size, u0_flat.size, y0_flat.size\n",
    "\n",
    "\n",
    "@arc.compile\n",
    "def dyn(x_flat, u_flat):\n",
    "    x = unravel_state(x_flat)\n",
    "    u_valve = unravel_input(u_flat)\n",
    "    u = u0.replace(**u_valve)\n",
    "    x_t = model.dynamics(x, u)\n",
    "    x_t_flat, _ = arc.tree.ravel(x_t)\n",
    "    return x_t_flat\n",
    "\n",
    "\n",
    "@arc.compile\n",
    "def obs(x_flat, u_flat):\n",
    "    x = unravel_state(x_flat)\n",
    "    u_valve = unravel_input(u_flat)\n",
    "    u = u0.replace(**u_valve)\n",
    "    F = model.thrust(x, u)\n",
    "    OF = model.OF(x)\n",
    "    return np.stack([F, OF])"
   ]
  },
  {
   "cell_type": "markdown",
   "metadata": {},
   "source": [
    "### Open-loop control algorithm\n",
    "\n",
    "1. Look up fuel valve position from thrust command\n",
    "2. Look up ox valve position to match $\\Phi = 1$"
   ]
  },
  {
   "cell_type": "code",
   "execution_count": 32,
   "metadata": {},
   "outputs": [],
   "source": [
    "@arc.compile\n",
    "def residual(dvs_flat, pos_fv):\n",
    "    x, u_valve = unravel(dvs_flat)\n",
    "    u_valve[\"pos_fv\"] = pos_fv\n",
    "    u = u0.replace(**u_valve)\n",
    "    OF_cmd = model.OF_stoich\n",
    "    residuals = (model.dynamics(x, u), model.OF(x) - OF_cmd)\n",
    "    return arc.tree.ravel(residuals)[0]"
   ]
  },
  {
   "cell_type": "code",
   "execution_count": 33,
   "metadata": {},
   "outputs": [],
   "source": [
    "dvs_guess = (x_opt, {\"pos_ov\": u_opt.pos_ov})\n",
    "dvs_guess_flat, unravel = arc.tree.ravel(dvs_guess)\n",
    "u_cmd_fv = np.linspace(1e-1, 1, 100)\n",
    "\n",
    "x_cmd = np.zeros((len(u_cmd_fv), n))\n",
    "u_cmd = np.zeros((len(u_cmd_fv), m))\n",
    "u_cmd_ov = np.zeros((len(u_cmd_fv), 1))\n",
    "\n",
    "for i in range(len(u_cmd_fv) - 1, -1, -1):\n",
    "    dvs_cmd_flat = arc.root(\n",
    "        residual, dvs_guess_flat, args=(u_cmd_fv[i],), method=\"kinsol\"\n",
    "    )\n",
    "    x_cmd[i], u_cmd_ov[i] = dvs_cmd_flat[:n], dvs_cmd_flat[n:]\n",
    "    u_cmd[i] = [u_cmd_fv[i], u_cmd_ov[i, 0]]\n",
    "    dvs_guess_flat, _ = arc.tree.ravel((x_cmd[i], u_cmd_ov[i]))\n",
    "    if np.any(np.isnan(dvs_cmd_flat)):\n",
    "        raise ValueError(\"NaN detected in optimization\")\n",
    "\n",
    "u_cmd_ov = u_cmd_ov.squeeze()"
   ]
  },
  {
   "cell_type": "code",
   "execution_count": 34,
   "metadata": {},
   "outputs": [],
   "source": [
    "T_cmd = np.zeros_like(u_cmd_fv)\n",
    "\n",
    "for i in range(len(u_cmd_fv)):\n",
    "    T_cmd[i] = obs(x_cmd[i], u_cmd[i])[0]"
   ]
  },
  {
   "cell_type": "code",
   "execution_count": 35,
   "metadata": {},
   "outputs": [
    {
     "data": {
      "image/png": "[encoded data removed]",
      "text/plain": [
       "<Figure size 600x400 with 2 Axes>"
      ]
     },
     "metadata": {},
     "output_type": "display_data"
    }
   ],
   "source": [
    "fig, ax = plt.subplots(2, 1, figsize=(6, 4), sharex=True)\n",
    "ax[0].plot(T_cmd, u_cmd_fv)\n",
    "ax[0].grid()\n",
    "ax[0].set_ylabel(\"Fuel valve [0-1]\")\n",
    "ax[1].plot(T_cmd, u_cmd_ov)\n",
    "ax[1].grid()\n",
    "ax[1].set_ylabel(\"Ox valve [0-1]\")\n",
    "ax[-1].set_xlabel(\"Command thrust [N]\")\n",
    "plt.show()"
   ]
  },
  {
   "cell_type": "code",
   "execution_count": 36,
   "metadata": {},
   "outputs": [],
   "source": [
    "@arc.compile\n",
    "def ctrl(T):\n",
    "    return {\n",
    "        \"pos_fv\": np.interp(T, T_cmd, u_cmd_fv),\n",
    "        \"pos_ov\": np.interp(T, T_cmd, u_cmd_ov),\n",
    "    }"
   ]
  },
  {
   "cell_type": "markdown",
   "metadata": {},
   "source": [
    "### Simulate with a step input"
   ]
  },
  {
   "cell_type": "code",
   "execution_count": 37,
   "metadata": {},
   "outputs": [],
   "source": [
    "t0, tf = 0.0, 2.0\n",
    "t_data = np.array([t0, 1 - 1e-6, 1 + 1e-6, tf])\n",
    "F_data = np.where(t_data < 1, 300, 301)\n",
    "\n",
    "\n",
    "def thrust(t):\n",
    "    return np.interp(t, t_data, F_data)"
   ]
  },
  {
   "cell_type": "code",
   "execution_count": 38,
   "metadata": {},
   "outputs": [],
   "source": [
    "u_nominal = ctrl(thrust(t0))\n",
    "\n",
    "# Interpolation for initial guess\n",
    "x0_flat = np.array(\n",
    "    [np.interp(u_nominal[\"pos_fv\"], u_cmd_fv, x_cmd[:, i]) for i in range(n)]\n",
    ")\n",
    "\n",
    "\n",
    "# Root-finding for the initial state\n",
    "@arc.compile\n",
    "def residual(x_flat):\n",
    "    x = unravel_state(x_flat)\n",
    "    u = u0.replace(**u_nominal)\n",
    "    return arc.tree.ravel(model.dynamics(x, u))[0]\n",
    "\n",
    "\n",
    "x0_flat = arc.root(residual, x0_flat, method=\"kinsol\")"
   ]
  },
  {
   "cell_type": "code",
   "execution_count": 39,
   "metadata": {},
   "outputs": [
    {
     "data": {
      "text/plain": [
       "array([ 0.043,  0.   ,  0.   ,  0.038,  0.   ,  0.   , -0.082,  0.049,\n",
       "        0.   ,  0.   , -0.105,  0.   ,  0.   ,  0.055, -0.   , -0.   ,\n",
       "       -0.   ])"
      ]
     },
     "execution_count": 39,
     "metadata": {},
     "output_type": "execute_result"
    }
   ],
   "source": [
    "@arc.compile\n",
    "def ode_rhs(t, x_flat):\n",
    "    x = unravel_state(x_flat)\n",
    "    u = u0.replace(**ctrl(thrust(t)))\n",
    "    x_t = model.dynamics(x, u)\n",
    "    x_t_flat, _ = arc.tree.ravel(x_t)\n",
    "    return x_t_flat\n",
    "\n",
    "\n",
    "jac = arc.jac(ode_rhs, 1)\n",
    "\n",
    "ode_rhs(0.0, x0_flat)"
   ]
  },
  {
   "cell_type": "code",
   "execution_count": 40,
   "metadata": {},
   "outputs": [
    {
     "data": {
      "text/plain": [
       "  message: The solver successfully reached the end of the integration interval.\n",
       "  success: True\n",
       "   status: 0\n",
       "        t: [ 0.000e+00  7.487e-12 ...  1.911e+00  2.000e+00]\n",
       "        y: [[ 3.628e-02  3.628e-02 ...  3.639e-02  3.639e-02]\n",
       "            [ 8.768e+02  8.768e+02 ...  8.768e+02  8.768e+02]\n",
       "            ...\n",
       "            [ 3.360e+03  3.360e+03 ...  3.360e+03  3.360e+03]\n",
       "            [ 1.268e-01  1.268e-01 ...  1.272e-01  1.272e-01]]\n",
       "      sol: None\n",
       " t_events: None\n",
       " y_events: None\n",
       "     nfev: 525\n",
       "     njev: 21\n",
       "      nlu: 102"
      ]
     },
     "execution_count": 40,
     "metadata": {},
     "output_type": "execute_result"
    }
   ],
   "source": [
    "def _ode_rhs(t, x):\n",
    "    return ode_rhs(t, x)\n",
    "\n",
    "\n",
    "def _jac(t, x):\n",
    "    J = jac(t, x)\n",
    "    return J\n",
    "\n",
    "\n",
    "sol = solve_ivp(\n",
    "    _ode_rhs,\n",
    "    t_span=(0, 2),\n",
    "    y0=x0_flat,\n",
    "    method=\"BDF\",\n",
    "    jac=_jac,\n",
    "    atol=1e-9,\n",
    "    rtol=1e-6,\n",
    ")\n",
    "\n",
    "sol"
   ]
  },
  {
   "cell_type": "code",
   "execution_count": 41,
   "metadata": {},
   "outputs": [],
   "source": [
    "leaves, treedef = arc.tree.flatten(x0)\n",
    "ts = sol.t\n",
    "xs = treedef.unflatten(sol.y)\n",
    "us = bcs(ts)"
   ]
  },
  {
   "cell_type": "code",
   "execution_count": 42,
   "metadata": {},
   "outputs": [
    {
     "data": {
      "image/png": "[encoded data removed]",
      "text/plain": [
       "<Figure size 700x200 with 1 Axes>"
      ]
     },
     "metadata": {},
     "output_type": "display_data"
    }
   ],
   "source": [
    "Phi = model.equivalence_ratio(xs)\n",
    "g0 = 9.81  # m/s^2\n",
    "\n",
    "plt.figure(figsize=(7, 2))\n",
    "plt.plot(ts, Phi)\n",
    "plt.xlabel(\"Time [s]\")\n",
    "plt.ylabel(r\"$\\Phi$ [-]\")\n",
    "plt.grid()\n",
    "plt.show()"
   ]
  },
  {
   "cell_type": "code",
   "execution_count": 43,
   "metadata": {},
   "outputs": [
    {
     "data": {
      "image/png": "[encoded data removed]",
      "text/plain": [
       "<Figure size 700x200 with 1 Axes>"
      ]
     },
     "metadata": {},
     "output_type": "display_data"
    }
   ],
   "source": [
    "F = model.thrust(xs, us)\n",
    "\n",
    "plt.figure(figsize=(7, 2))\n",
    "plt.plot(t_data, F_data, label=\"Command\")\n",
    "plt.plot(ts, F, \"-\", label=\"Model\")\n",
    "plt.xlabel(\"Time [s]\")\n",
    "plt.ylabel(\"Thrust [N]\")\n",
    "plt.grid()\n",
    "plt.legend()\n",
    "plt.xlim([1 - 1e-3, 1 + 1e-2])\n",
    "plt.show()"
   ]
  },
  {
   "cell_type": "markdown",
   "metadata": {},
   "source": [
    "2-3 ms response time"
   ]
  },
  {
   "cell_type": "markdown",
   "metadata": {},
   "source": [
    "### Linearize about the operating point"
   ]
  },
  {
   "cell_type": "code",
   "execution_count": 44,
   "metadata": {},
   "outputs": [
    {
     "name": "stdout",
     "output_type": "stream",
     "text": [
      "[300.      2.496]\n",
      "[300.021   2.496]\n",
      "True\n"
     ]
    }
   ],
   "source": [
    "print(y0_flat)\n",
    "print(obs(x0_flat, u0_flat))\n",
    "\n",
    "A = arc.jac(dyn, 0)(x0_flat, u0_flat)\n",
    "B = arc.jac(dyn, 1)(x0_flat, u0_flat)\n",
    "C = arc.jac(obs, 0)(x0_flat, u0_flat)\n",
    "D = arc.jac(obs, 1)(x0_flat, u0_flat)\n",
    "\n",
    "print(np.allclose(D, 0))"
   ]
  },
  {
   "cell_type": "code",
   "execution_count": 45,
   "metadata": {},
   "outputs": [
    {
     "data": {
      "text/plain": [
       "17"
      ]
     },
     "execution_count": 45,
     "metadata": {},
     "output_type": "execute_result"
    }
   ],
   "source": [
    "A.shape[0]"
   ]
  },
  {
   "cell_type": "code",
   "execution_count": 46,
   "metadata": {},
   "outputs": [
    {
     "data": {
      "text/plain": [
       "array([-6.143e-03   +0.j  , -1.057e-01   +0.j  , -4.137e+00   +0.j  ,\n",
       "       -7.318e+01   +0.j  , -1.359e+03   +0.j  , -1.492e+03-1070.54j,\n",
       "       -1.492e+03+1070.54j, -6.138e+03   +0.j  , -9.379e+07   +0.j  ,\n",
       "       -5.685e+08   +0.j  , -7.876e+09   +0.j  , -1.276e+10   +0.j  ,\n",
       "       -3.345e+13   +0.j  , -4.151e+13   +0.j  , -6.962e+13   +0.j  ,\n",
       "       -8.229e+13   +0.j  , -3.378e+14   +0.j  ])"
      ]
     },
     "execution_count": 46,
     "metadata": {},
     "output_type": "execute_result"
    }
   ],
   "source": [
    "# Eigenvalues of the linearized system\n",
    "evals, evecs = np.linalg.eig(A)\n",
    "\n",
    "# Sort by descending real part\n",
    "sort_idx = np.argsort(evals.real)[::-1]\n",
    "evals = evals[sort_idx]\n",
    "evecs = evecs[:, sort_idx]\n",
    "\n",
    "evals"
   ]
  },
  {
   "cell_type": "code",
   "execution_count": 47,
   "metadata": {},
   "outputs": [
    {
     "name": "stdout",
     "output_type": "stream",
     "text": [
      "fv: FlowPath.State(dm=array(0.))\n",
      "fl: ControlVolume.State(rho=array(-0.), T=array(-0.691))\n",
      "fmi: FlowPath.State(dm=array(0.))\n",
      "fm: ControlVolume.State(rho=array(-0.), T=array(-0.652))\n",
      "fin: FlowPath.State(dm=array(0.))\n",
      "ov: FlowPath.State(dm=array(-0.))\n",
      "ol: ControlVolume.State(rho=array(0.002), T=array(-0.001))\n",
      "omi: FlowPath.State(dm=array(-0.))\n",
      "om: ControlVolume.State(rho=array(-0.14), T=array(0.06))\n",
      "oin: FlowPath.State(dm=array(-0.))\n",
      "cc: ControlVolume.State(rho=array(0.), T=array(-0.273))\n",
      "noz: FlowPath.State(dm=array(-0.))\n"
     ]
    }
   ],
   "source": [
    "# Least-stable eigenvector\n",
    "v1 = unravel_state(evecs[:, 0])\n",
    "fields = struct.fields(v1)\n",
    "\n",
    "for field in fields:\n",
    "    print(f\"{field.name}: {getattr(v1, field.name)}\")\n",
    "\n",
    "# The slow eigenvector is mainly associated with temperature changes\n",
    "# -> not mass flow"
   ]
  },
  {
   "cell_type": "markdown",
   "metadata": {},
   "source": [
    "### Region of validity for the linear system"
   ]
  },
  {
   "cell_type": "code",
   "execution_count": 48,
   "metadata": {},
   "outputs": [
    {
     "data": {
      "image/png": "[encoded data removed]",
      "text/plain": [
       "<Figure size 600x400 with 2 Axes>"
      ]
     },
     "metadata": {},
     "output_type": "display_data"
    }
   ],
   "source": [
    "n, m, p = A.shape[0], B.shape[1], C.shape[0]\n",
    "\n",
    "F_cmd = np.linspace(290, 310, 100)\n",
    "OF_cmd = model.OF_stoich * np.ones_like(F_cmd)\n",
    "\n",
    "y_cmd = np.stack([F_cmd, OF_cmd], axis=1) - y0_flat\n",
    "\n",
    "# Solve the linear system to find the predicted operating point\n",
    "M = np.concatenate(\n",
    "    [\n",
    "        np.concatenate([A, B], axis=1),\n",
    "        np.concatenate([C, D], axis=1),\n",
    "    ],\n",
    "    axis=0,\n",
    ")\n",
    "\n",
    "x_cmd = np.zeros((len(F_cmd), n))\n",
    "u_cmd = np.zeros((len(F_cmd), m))\n",
    "\n",
    "for i in range(len(F_cmd)):\n",
    "    # Find a fixed point with the target outputs and zero time derivative\n",
    "    b = np.concatenate([np.zeros(n), y_cmd[i]])\n",
    "    z = np.linalg.solve(M, b)\n",
    "    x_cmd[i], u_cmd[i] = z[:n], z[n:]\n",
    "\n",
    "\n",
    "# Shift by the fixed point\n",
    "x_cmd_nl = x_cmd + x0_flat\n",
    "u_cmd_nl = u_cmd + u0_flat\n",
    "\n",
    "# Lookup table for nonlinear set point\n",
    "u_cmd_lut = ctrl(F_cmd)\n",
    "\n",
    "fig, ax = plt.subplots(2, 1, figsize=(6, 4), sharex=True)\n",
    "ax[0].plot(F_cmd, u_cmd_lut[\"pos_fv\"], \"k\")\n",
    "ax[0].plot(F_cmd, u_cmd_nl[:, 0])\n",
    "ax[0].grid()\n",
    "ax[0].set_ylabel(\"Fuel valve [0-1]\")\n",
    "ax[1].plot(F_cmd, u_cmd_lut[\"pos_ov\"], \"k\")\n",
    "ax[1].plot(F_cmd, u_cmd_nl[:, 1])\n",
    "ax[1].grid()\n",
    "ax[1].set_ylabel(\"Ox valve [0-1]\")\n",
    "ax[-1].set_xlabel(\"Command thrust [N]\")\n",
    "plt.show()"
   ]
  },
  {
   "cell_type": "code",
   "execution_count": 49,
   "metadata": {},
   "outputs": [],
   "source": [
    "# Transfer function from valves to thrust\n",
    "sys = control.StateSpace(A, B, C[:1, :], D[:1, :])\n",
    "\n",
    "\n",
    "def freq_response(sys, omega):\n",
    "    mag, phase, _omega = control.frequency_response(sys, omega=omega)\n",
    "\n",
    "    for i in range(phase.shape[0]):\n",
    "        for j in range(phase.shape[1]):\n",
    "            phase[i, j] = control.ctrlutil.unwrap(phase[i, j])\n",
    "\n",
    "    return mag, phase\n",
    "\n",
    "\n",
    "omega = np.logspace(-1, 7, 200)\n",
    "mag, phase = freq_response(sys, omega)"
   ]
  },
  {
   "cell_type": "code",
   "execution_count": 50,
   "metadata": {},
   "outputs": [
    {
     "data": {
      "text/plain": [
       "Text(0.5, 1.0, 'Thrust response')"
      ]
     },
     "execution_count": 50,
     "metadata": {},
     "output_type": "execute_result"
    },
    {
     "data": {
      "image/png": "[encoded data removed]",
      "text/plain": [
       "<Figure size 600x400 with 2 Axes>"
      ]
     },
     "metadata": {},
     "output_type": "display_data"
    }
   ],
   "source": [
    "# Convert rad/s to Hz\n",
    "omega = omega / (2 * np.pi)\n",
    "\n",
    "fig, ax = plt.subplots(2, 1, figsize=(6, 4), sharex=True)\n",
    "ax[0].loglog(omega, mag[0, 0], label=\"FV\")\n",
    "ax[0].loglog(omega, mag[0, 1], label=\"OV\")\n",
    "ax[0].grid()\n",
    "ax[0].legend()\n",
    "ax[0].set_ylabel(\"Magnitude\")\n",
    "ax[1].semilogx(omega, np.rad2deg(phase[0, 0]), label=\"FV\")\n",
    "ax[1].semilogx(omega, np.rad2deg(phase[0, 1]), label=\"OV\")\n",
    "ax[1].grid()\n",
    "ax[1].set_ylabel(\"Phase [deg]\")\n",
    "ax[-1].set_xlabel(\"Frequency [Hz]\")\n",
    "ax[0].set_title(\"Thrust response\")"
   ]
  },
  {
   "cell_type": "markdown",
   "metadata": {},
   "source": [
    "### Model reduction"
   ]
  },
  {
   "cell_type": "code",
   "execution_count": null,
   "metadata": {},
   "outputs": [
    {
     "name": "stdout",
     "output_type": "stream",
     "text": [
      "Reduced system has  17 states\n"
     ]
    },
    {
     "name": "stderr",
     "output_type": "stream",
     "text": [
      "/Users/jared/Dropbox/projects/archimedes/src/archimedes/experimental/modred.py:74: RuntimeWarning: Input \"a\" has an eigenvalue pair whose sum is very close to or exactly zero. The solution is obtained via perturbing the coefficients.\n",
      "  Wc = linalg.solve_continuous_lyapunov(A, -B @ B.T)\n",
      "/Users/jared/Dropbox/projects/archimedes/src/archimedes/experimental/modred.py:80: RuntimeWarning: Input \"a\" has an eigenvalue pair whose sum is very close to or exactly zero. The solution is obtained via perturbing the coefficients.\n",
      "  Wo = linalg.solve_continuous_lyapunov(A.T, -C.T @ C)\n"
     ]
    }
   ],
   "source": [
    "Ar, Br, Cr, Dr, hsv = balanced_truncation(sys.A, sys.B, sys.C, sys.D, r=2)\n",
    "print(\"Reduced system has \", A.shape[0], \"states\")\n",
    "rsys = control.StateSpace(Ar, Br, Cr, Dr)\n",
    "\n",
    "omega = np.logspace(-1, 7, 200)\n",
    "mag, phase = freq_response(sys, omega)\n",
    "rmag, rphase = freq_response(rsys, omega)\n",
    "\n",
    "# Convert rad/s to Hz\n",
    "omega = omega / (2 * np.pi)"
   ]
  },
  {
   "cell_type": "code",
   "execution_count": 90,
   "metadata": {},
   "outputs": [
    {
     "data": {
      "image/png": "[encoded data removed]",
      "text/plain": [
       "<Figure size 1000x400 with 4 Axes>"
      ]
     },
     "metadata": {},
     "output_type": "display_data"
    }
   ],
   "source": [
    "fig, ax = plt.subplots(2, 2, figsize=(10, 4), sharex=\"col\", sharey=\"row\")\n",
    "ax[0, 0].loglog(omega, mag[0, 0], label=\"Original\")\n",
    "ax[0, 0].loglog(omega, rmag[0, 0], \"--\", label=\"Reduced\")\n",
    "ax[0, 0].grid()\n",
    "ax[0, 0].legend()\n",
    "ax[0, 1].loglog(omega, mag[0, 1], label=\"Original\")\n",
    "ax[0, 1].loglog(omega, rmag[0, 1], \"--\", label=\"Reduced\")\n",
    "ax[0, 1].grid()\n",
    "ax[0, 0].set_ylabel(\"Magnitude\")\n",
    "ax[1, 0].semilogx(omega, np.rad2deg(phase[0, 0]), label=\"Original\")\n",
    "ax[1, 0].semilogx(omega, np.rad2deg(rphase[0, 0]), \"--\", label=\"Reduced\")\n",
    "ax[1, 0].grid()\n",
    "ax[1, 0].set_ylabel(\"Phase [deg]\")\n",
    "ax[1, 0].set_xlabel(\"Frequency [Hz]\")\n",
    "ax[1, 1].semilogx(omega, np.rad2deg(phase[0, 1]), label=\"Original\")\n",
    "ax[1, 1].semilogx(omega, np.rad2deg(rphase[0, 1]), \"--\", label=\"Reduced\")\n",
    "ax[1, 1].grid()\n",
    "ax[1, 1].set_xlabel(\"Frequency [Hz]\")\n",
    "ax[0, 0].set_title(\"Fuel valve\")\n",
    "ax[0, 1].set_title(\"Ox valve\")\n",
    "plt.tight_layout()\n",
    "plt.show()"
   ]
  },
  {
   "cell_type": "code",
   "execution_count": null,
   "metadata": {},
   "outputs": [],
   "source": []
  }
 ],
 "metadata": {
  "kernelspec": {
   "display_name": "archimedes",
   "language": "python",
   "name": "archimedes"
  },
  "language_info": {
   "codemirror_mode": {
    "name": "ipython",
    "version": 3
   },
   "file_extension": ".py",
   "mimetype": "text/x-python",
   "name": "python",
   "nbconvert_exporter": "python",
   "pygments_lexer": "ipython3",
   "version": "3.12.9"
  }
 },
 "nbformat": 4,
 "nbformat_minor": 2
}
