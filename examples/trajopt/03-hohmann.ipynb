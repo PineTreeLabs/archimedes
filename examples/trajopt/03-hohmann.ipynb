{
 "cells": [
  {
   "cell_type": "markdown",
   "metadata": {},
   "source": [
    "# Circular orbit transfer problem"
   ]
  },
  {
   "cell_type": "markdown",
   "metadata": {},
   "source": [
    "$$\n",
    "\\min_{\\Delta v, \\mathbf{x}(t)} \\sum |\\Delta v|^2\n",
    "$$\n",
    "\n",
    "subject to the dynamic constraints\n",
    "\n",
    "$$\n",
    "\\begin{gather*}\n",
    "\\dot{r} = u \\\\\n",
    "\\dot{\\theta} = v \\\\\n",
    "\\dot{u} = \\frac{v^2}{r} - \\frac{\\mu}{r^2} \\\\\n",
    "\\dot{v} = -\\frac{uv}{r}\n",
    "\\end{gather*}\n",
    "$$\n",
    "\n",
    "and boundary conditions\n",
    "\n",
    "$$\n",
    "\\begin{gather*}\n",
    "r(0) = r_0 \\\\\n",
    "\\theta(0) = 0 \\\\\n",
    "u(0) = 0 \\\\\n",
    "v(0) = \\sqrt{\\frac{\\mu}{r_0}} \\\\\n",
    "r(t_f) = r_f \\\\\n",
    "\\theta(t_f) = 0 \\\\\n",
    "u(t_f) = 0 \\\\\n",
    "v(t_f) = \\sqrt{\\frac{\\mu}{r_f}}.\n",
    "\\end{gather*}\n",
    "$$\n",
    "\n",
    "There are three stages (although the OCP does not need to be constructed this way): an initial circular orbit, an elliptic orbit, and a final circular orbit.  Each pair of stages is joined by a $\\Delta v$ maneuver, but the positions must be continuous.\n",
    "\n",
    "In arbitrary units, $\\mu = 1.0$, $r_0 = 1.0$, and $r_f = 1.5$.\n",
    "\n",
    "(__TODO:__ Make this a real transfer from LEO to GEO)"
   ]
  },
  {
   "cell_type": "code",
   "execution_count": 19,
   "metadata": {},
   "outputs": [
    {
     "name": "stdout",
     "output_type": "stream",
     "text": [
      "The autoreload extension is already loaded. To reload it, use:\n",
      "  %reload_ext autoreload\n"
     ]
    }
   ],
   "source": [
    "import numpy as np\n",
    "\n",
    "import archimedes as arc\n",
    "from archimedes.experimental import coco as cc\n",
    "import matplotlib.pyplot as plt\n",
    "\n",
    "arc.theme.set_theme(\"dark\")\n",
    "\n",
    "%load_ext autoreload\n",
    "%autoreload 2"
   ]
  },
  {
   "cell_type": "markdown",
   "metadata": {},
   "source": [
    "# Single-stage problem"
   ]
  },
  {
   "cell_type": "code",
   "execution_count": 20,
   "metadata": {},
   "outputs": [
    {
     "name": "stdout",
     "output_type": "stream",
     "text": [
      "This is Ipopt version 3.14.11, running with linear solver MUMPS 5.4.1.\n",
      "\n",
      "Number of nonzeros in equality constraint Jacobian...:     1909\n",
      "Number of nonzeros in inequality constraint Jacobian.:        1\n",
      "Number of nonzeros in Lagrangian Hessian.............:      162\n",
      "\n",
      "Total number of variables............................:       88\n",
      "                     variables with only lower bounds:        0\n",
      "                variables with lower and upper bounds:        0\n",
      "                     variables with only upper bounds:        0\n",
      "Total number of equality constraints.................:       87\n",
      "Total number of inequality constraints...............:        1\n",
      "        inequality constraints with only lower bounds:        1\n",
      "   inequality constraints with lower and upper bounds:        0\n",
      "        inequality constraints with only upper bounds:        0\n",
      "\n",
      "iter    objective    inf_pr   inf_du lg(mu)  ||d||  lg(rg) alpha_du alpha_pr  ls\n",
      "   0  0.0000000e+00 6.79e-01 1.00e+00  -1.0 0.00e+00    -  0.00e+00 0.00e+00   0\n",
      "   1  3.5070562e-02 3.88e+00 2.90e+04  -1.0 3.87e+01  -4.0 1.03e-01 1.00e+00h  1\n",
      "   2  2.4223785e-02 1.88e+00 9.25e+04  -1.0 3.29e+01  -4.5 1.00e+00 1.00e+00h  1\n",
      "   3  1.0168885e-02 9.06e-01 6.87e+03  -1.0 1.99e+00  -5.0 1.00e+00 1.00e+00h  1\n",
      "   4  1.0679860e-02 4.40e-01 1.47e+04  -1.0 4.05e+01  -5.4 1.00e+00 1.07e-01h  2\n",
      "   5  1.7076286e-02 5.86e-02 1.38e+04  -1.0 4.23e-01  -5.9 1.00e+00 1.00e+00h  1\n",
      "   6  1.6560333e-02 1.82e-03 7.53e+02  -1.0 2.12e-01  -6.4 1.00e+00 1.00e+00h  1\n",
      "   7  1.6540170e-02 4.65e-06 1.16e+00  -1.0 1.21e-02  -6.9 1.00e+00 1.00e+00h  1\n",
      "   8  1.6540182e-02 9.22e-12 5.78e-06  -1.0 1.42e-05  -7.3 1.00e+00 1.00e+00h  1\n",
      "   9  1.6540182e-02 2.13e-14 2.83e-08  -2.5 2.62e-11  -7.8 1.00e+00 1.00e+00h  1\n",
      "iter    objective    inf_pr   inf_du lg(mu)  ||d||  lg(rg) alpha_du alpha_pr  ls\n",
      "  10  1.6540182e-02 4.13e-14 1.50e-09  -3.8 5.54e-16  -8.3 1.00e+00 1.00e+00   0\n",
      "  11  1.6540182e-02 2.31e-14 1.84e-11  -5.7 5.77e-15  -8.8 1.00e+00 1.00e+00T  0\n",
      "  12  1.6540182e-02 3.86e-14 2.51e-14  -8.6 6.02e-15  -9.2 1.00e+00 1.00e+00T  0\n",
      "\n",
      "Number of Iterations....: 12\n",
      "\n",
      "                                   (scaled)                 (unscaled)\n",
      "Objective...............:   1.6540181979447868e-02    1.6540181979447868e-02\n",
      "Dual infeasibility......:   2.5059035587193448e-14    2.5059035587193448e-14\n",
      "Constraint violation....:   3.8635761256955448e-14    3.8635761256955448e-14\n",
      "Variable bound violation:   0.0000000000000000e+00    0.0000000000000000e+00\n",
      "Complementarity.........:   2.5059035596825520e-09    2.5059035596825520e-09\n",
      "Overall NLP error.......:   2.5059035596825520e-09    2.5059035596825520e-09\n",
      "\n",
      "\n",
      "Number of objective function evaluations             = 15\n",
      "Number of objective gradient evaluations             = 13\n",
      "Number of equality constraint evaluations            = 15\n",
      "Number of inequality constraint evaluations          = 15\n",
      "Number of equality constraint Jacobian evaluations   = 13\n",
      "Number of inequality constraint Jacobian evaluations = 13\n",
      "Number of Lagrangian Hessian evaluations             = 12\n",
      "Total seconds in IPOPT                               = 0.038\n",
      "\n",
      "EXIT: Optimal Solution Found.\n",
      "      solver  :   t_proc      (avg)   t_wall      (avg)    n_eval\n",
      "       nlp_f  |  46.00us (  3.07us)  41.87us (  2.79us)        15\n",
      "       nlp_g  | 271.00us ( 18.07us) 282.86us ( 18.86us)        15\n",
      "  nlp_grad_f  |  57.00us (  4.07us)  55.57us (  3.97us)        14\n",
      "  nlp_hess_l  |   3.73ms (310.83us)   3.73ms (311.05us)        12\n",
      "   nlp_jac_g  |  19.00ms (  1.36ms)  19.35ms (  1.38ms)        14\n",
      "       total  |  37.34ms ( 37.34ms)  37.90ms ( 37.90ms)         1\n"
     ]
    },
    {
     "data": {
      "text/plain": [
       "array([0.09544512, 0.08619984])"
      ]
     },
     "execution_count": 20,
     "metadata": {},
     "output_type": "execute_result"
    }
   ],
   "source": [
    "mu = 1.0\n",
    "r0 = 1.0\n",
    "rf = 1.5\n",
    "\n",
    "nx, nu = 4, 0\n",
    "t0 = 0.0\n",
    "\n",
    "\n",
    "def j(t, x, phi, p):\n",
    "    return 0.0\n",
    "\n",
    "\n",
    "def f(t, x, phi, p):\n",
    "    r, θ, u, v = x\n",
    "    return np.array(\n",
    "        [\n",
    "            u,\n",
    "            v / r,\n",
    "            v**2 / r - mu / r**2,\n",
    "            -u * v / r,\n",
    "        ],\n",
    "        like=x,\n",
    "    )\n",
    "\n",
    "\n",
    "def cost(x0, t0, xf, tf, q, p):\n",
    "    return sum(p**2)  # Total delta-v expenditure\n",
    "\n",
    "\n",
    "# Add impulsive (tangential) velocity at the beginning\n",
    "def initial_constraint(boundary_data):\n",
    "    dv1 = boundary_data.p[0]\n",
    "    x0_transfer = np.array(\n",
    "        [r0, 0.0, 0.0, np.sqrt(mu / r0) + dv1], like=boundary_data.x0\n",
    "    )\n",
    "    return x0_transfer - boundary_data.x0\n",
    "\n",
    "\n",
    "# Final state of the transfer orbit should be the target orbit,\n",
    "# less the impulsive (tangential) velocity change. The final anomaly\n",
    "# is not constrained\n",
    "def terminal_constraint(boundary_data):\n",
    "    dv2 = boundary_data.p[1]\n",
    "    xf = boundary_data.xf[[0, 2, 3]]\n",
    "    xf_circular = np.array([rf, 0.0, np.sqrt(mu / rf) - dv2], like=boundary_data.xf)\n",
    "    return xf_circular - xf\n",
    "\n",
    "\n",
    "# Discretize the domain\n",
    "N = [20]\n",
    "knots = []\n",
    "domain = cc.RadauFiniteElements(N=N, knots=knots)\n",
    "\n",
    "\n",
    "# Boundary conditions\n",
    "bcs = [\n",
    "    cc.Constraint(initial_constraint, 4),\n",
    "    cc.Constraint(terminal_constraint, 3),\n",
    "]\n",
    "\n",
    "# Define the problem in three stages\n",
    "ocp = cc.OptimalControlProblem(\n",
    "    nx=nx,\n",
    "    nu=nu,\n",
    "    np=2,\n",
    "    ode=f,\n",
    "    quad=j,\n",
    "    cost=cost,\n",
    "    boundary_constraints=bcs,\n",
    "    start_time=t0,\n",
    ")\n",
    "\n",
    "# Linearly interpolate initial guess\n",
    "x0_guess = np.array([r0, 0.0, 0.0, np.sqrt(mu / r0)])\n",
    "xf_guess = np.array([rf, np.pi, 0.0, np.sqrt(mu / rf)])\n",
    "tf_guess = 4.5\n",
    "\n",
    "\n",
    "def x_guess(t):\n",
    "    return x0_guess + (t - t0) * (xf_guess - x0_guess) / (tf_guess - t0)\n",
    "\n",
    "\n",
    "sol = ocp.solve(domain, t_guess=(t0, tf_guess), x_guess=x_guess)\n",
    "sol.p"
   ]
  },
  {
   "cell_type": "code",
   "execution_count": 21,
   "metadata": {},
   "outputs": [
    {
     "data": {
      "text/plain": [
       "(np.float64(0.09544511501033215), np.float64(0.08619983758750457))"
      ]
     },
     "execution_count": 21,
     "metadata": {},
     "output_type": "execute_result"
    }
   ],
   "source": [
    "# Hohmann solution\n",
    "dv1_ex = np.sqrt(mu / r0) * (np.sqrt(2 * rf / (r0 + rf)) - 1)\n",
    "dv2_ex = np.sqrt(mu / rf) * (1 - np.sqrt(2 * r0 / (r0 + rf)))\n",
    "dv1_ex, dv2_ex"
   ]
  },
  {
   "cell_type": "code",
   "execution_count": 22,
   "metadata": {},
   "outputs": [
    {
     "data": {
      "text/plain": [
       "Text(0.5, 0, '$t$')"
      ]
     },
     "execution_count": 22,
     "metadata": {},
     "output_type": "execute_result"
    },
    {
     "data": {
      "image/png": "[encoded data removed]",
      "text/plain": [
       "<Figure size 700x300 with 4 Axes>"
      ]
     },
     "metadata": {},
     "output_type": "display_data"
    }
   ],
   "source": [
    "t_plt = np.linspace(t0, sol.tf, 100)\n",
    "x_plt = sol.x(t_plt)\n",
    "\n",
    "fig, ax = plt.subplots(4, 1, figsize=(7, 3), sharex=True)\n",
    "\n",
    "ax[0].scatter(sol.tp, sol.xp[:, 0], s=10, c=\"k\")\n",
    "ax[0].plot(t_plt, x_plt[:, 0], \"k\")\n",
    "ax[0].grid()\n",
    "ax[0].set_ylabel(\"$r$\")\n",
    "ax[1].scatter(sol.tp, sol.xp[:, 1], s=10, c=\"k\")\n",
    "ax[1].plot(t_plt, x_plt[:, 1], \"k\")\n",
    "ax[1].grid()\n",
    "ax[1].set_ylabel(r\"$\\theta$\")\n",
    "ax[2].scatter(sol.tp, sol.xp[:, 2], s=10, c=\"k\")\n",
    "ax[2].plot(t_plt, x_plt[:, 2], \"k\")\n",
    "ax[2].grid()\n",
    "ax[2].set_ylabel(\"$u$\")\n",
    "ax[3].scatter(sol.tp, sol.xp[:, 3], s=10, c=\"k\")\n",
    "ax[3].plot(t_plt, x_plt[:, 3], \"k\")\n",
    "ax[3].grid()\n",
    "ax[3].set_ylabel(\"$v$\")\n",
    "ax[3].set_xlabel(\"$t$\")"
   ]
  },
  {
   "cell_type": "code",
   "execution_count": 23,
   "metadata": {},
   "outputs": [
    {
     "data": {
      "image/png": "[encoded data removed]",
      "text/plain": [
       "<Figure size 400x400 with 1 Axes>"
      ]
     },
     "metadata": {},
     "output_type": "display_data"
    }
   ],
   "source": [
    "fig, ax = plt.subplots(1, 1, figsize=(4, 4))\n",
    "\n",
    "r, θ = x_plt[:, 0], x_plt[:, 1]\n",
    "x, y = r * np.cos(θ), r * np.sin(θ)\n",
    "\n",
    "rf = r[-1]\n",
    "r0 = r[0]\n",
    "rmax = max(r)\n",
    "\n",
    "ax.plot(x, y, c=\"xkcd:brick\")\n",
    "\n",
    "θ = np.linspace(0, 2 * np.pi, 1000)\n",
    "ax.plot(r0 * np.cos(θ), r0 * np.sin(θ), c=\"grey\", ls=\"--\")\n",
    "ax.plot(rf * np.cos(θ), rf * np.sin(θ), c=\"k\", ls=\"--\")\n",
    "\n",
    "ax.set_xlim([-1.2 * rmax, 1.2 * rmax])\n",
    "ax.set_ylim([-1.2 * rmax, 1.2 * rmax])\n",
    "ax.grid()\n",
    "plt.show()"
   ]
  },
  {
   "cell_type": "markdown",
   "metadata": {},
   "source": [
    "# Two-stage problem\n",
    "\n",
    "Same basic problem, but add a constraint on the final anomaly so that the time of the transfer becomes part of the problem.  This simulates a rendezvous-type problem or falling into a specified GEO slot."
   ]
  },
  {
   "cell_type": "code",
   "execution_count": 42,
   "metadata": {},
   "outputs": [
    {
     "name": "stdout",
     "output_type": "stream",
     "text": [
      "This is Ipopt version 3.14.11, running with linear solver MUMPS 5.4.1.\n",
      "\n",
      "Number of nonzeros in equality constraint Jacobian...:     3981\n",
      "Number of nonzeros in inequality constraint Jacobian.:        4\n",
      "Number of nonzeros in Lagrangian Hessian.............:      442\n",
      "\n",
      "Total number of variables............................:      174\n",
      "                     variables with only lower bounds:        0\n",
      "                variables with lower and upper bounds:        0\n",
      "                     variables with only upper bounds:        0\n",
      "Total number of equality constraints.................:      174\n",
      "Total number of inequality constraints...............:        2\n",
      "        inequality constraints with only lower bounds:        2\n",
      "   inequality constraints with lower and upper bounds:        0\n",
      "        inequality constraints with only upper bounds:        0\n",
      "\n",
      "iter    objective    inf_pr   inf_du lg(mu)  ||d||  lg(rg) alpha_du alpha_pr  ls\n",
      "   0  0.0000000e+00 3.14e+00 1.00e+00  -1.0 0.00e+00    -  0.00e+00 0.00e+00   0\n",
      "   1  3.3904618e-04 2.83e+00 5.69e+01  -1.0 2.46e+01    -  1.04e-01 1.00e-01h  1\n",
      "   2  9.4264910e-02 2.82e+00 6.06e+02  -1.0 2.29e+02    -  1.08e-04 1.69e-03f  5\n",
      "   3  2.4312445e-04 2.81e+00 5.69e+02  -1.0 1.25e+02    -  3.39e-03 2.81e-03f  5\n",
      "   4  3.4781047e-04 2.62e+00 4.36e+04  -1.0 8.01e+01    -  1.00e+00 6.98e-02h  1\n",
      "   5  2.0657716e-02 4.76e-01 1.12e+05  -1.0 1.76e+01    -  3.52e-02 1.00e+00F  1\n",
      "   6  1.3527102e-02 4.06e-01 1.52e+05  -1.0 1.20e+00    -  1.00e+00 1.00e+00h  1\n",
      "   7  1.8027480e-02 6.85e-02 3.52e+04  -1.0 4.40e-01    -  1.00e+00 1.00e+00h  1\n",
      "   8  1.6533011e-02 1.08e-03 1.09e+03  -1.0 5.97e-02    -  1.00e+00 1.00e+00h  1\n",
      "   9  1.6540183e-02 7.76e-08 1.92e-01  -1.0 4.40e-04    -  1.00e+00 1.00e+00h  1\n",
      "iter    objective    inf_pr   inf_du lg(mu)  ||d||  lg(rg) alpha_du alpha_pr  ls\n",
      "  10  1.6540182e-02 6.86e-14 2.83e-08  -2.5 7.61e-08    -  1.00e+00 1.00e+00h  1\n",
      "\n",
      "Number of Iterations....: 10\n",
      "\n",
      "                                   (scaled)                 (unscaled)\n",
      "Objective...............:   1.6540181979448048e-02    1.6540181979448048e-02\n",
      "Dual infeasibility......:   3.9865249908685799e-14    3.9865249908685799e-14\n",
      "Constraint violation....:   6.8611782921834674e-14    6.8611782921834674e-14\n",
      "Variable bound violation:   0.0000000000000000e+00    0.0000000000000000e+00\n",
      "Complementarity.........:   0.0000000000000000e+00    0.0000000000000000e+00\n",
      "Overall NLP error.......:   6.8611782921834674e-14    6.8611782921834674e-14\n",
      "\n",
      "\n",
      "Number of objective function evaluations             = 24\n",
      "Number of objective gradient evaluations             = 11\n",
      "Number of equality constraint evaluations            = 24\n",
      "Number of inequality constraint evaluations          = 24\n",
      "Number of equality constraint Jacobian evaluations   = 11\n",
      "Number of inequality constraint Jacobian evaluations = 11\n",
      "Number of Lagrangian Hessian evaluations             = 10\n",
      "Total seconds in IPOPT                               = 0.065\n",
      "\n",
      "EXIT: Optimal Solution Found.\n",
      "      solver  :   t_proc      (avg)   t_wall      (avg)    n_eval\n",
      "       nlp_f  |  76.00us (  3.17us)  74.39us (  3.10us)        24\n",
      "       nlp_g  | 794.00us ( 33.08us) 790.93us ( 32.96us)        24\n",
      "  nlp_grad_f  | 105.00us (  8.75us)  90.07us (  7.51us)        12\n",
      "  nlp_hess_l  |   8.07ms (806.60us)   8.14ms (814.14us)        10\n",
      "   nlp_jac_g  |  35.74ms (  2.98ms)  36.16ms (  3.01ms)        12\n",
      "       total  |  64.15ms ( 64.15ms)  65.27ms ( 65.27ms)         1\n"
     ]
    }
   ],
   "source": [
    "mu = 1.0\n",
    "r0 = 1.0\n",
    "rf = 1.5\n",
    "\n",
    "\n",
    "nx, nu = 4, 0\n",
    "x0 = np.array([r0, 0.0, 0.0, np.sqrt(mu / r0)])\n",
    "xf = np.array([rf, 2 * np.pi, 0.0, np.sqrt(mu / rf)])\n",
    "t0 = 0.0\n",
    "\n",
    "\n",
    "def j(t, x, phi, p):\n",
    "    return 0.0\n",
    "\n",
    "\n",
    "def f(t, x, phi, p):\n",
    "    r, θ, u, v = x\n",
    "    return np.array(\n",
    "        [\n",
    "            u,\n",
    "            v / r,\n",
    "            v**2 / r - mu / r**2,\n",
    "            -u * v / r,\n",
    "        ],\n",
    "        like=x,\n",
    "    )\n",
    "\n",
    "\n",
    "def cost_stage1(x0, t0, xf, tf, q, p):\n",
    "    return sum(p**2)  # Total delta-v expenditure\n",
    "\n",
    "\n",
    "def cost_stage2(x0, t0, xf, tf, q, p):\n",
    "    return sum(p**2)  # Total delta-v expenditure\n",
    "\n",
    "\n",
    "# State continuity between stages\n",
    "def stage_constraint(boundary_data):\n",
    "    bd1, bd2 = boundary_data\n",
    "    bd2_x0 = bd1.xf\n",
    "    bd2_x0[3] += bd1.p  # Add delta-v to tangential velocity\n",
    "    return bd2_x0 - bd2.x0\n",
    "\n",
    "\n",
    "def terminal_constraint(boundary_data):\n",
    "    dv2 = boundary_data.p\n",
    "    stage_xf = boundary_data.xf\n",
    "    xf_circular = np.array([xf[0], xf[1], xf[2], xf[3] - dv2], like=stage_xf)\n",
    "    return xf_circular - stage_xf\n",
    "\n",
    "\n",
    "# Discretize the domain (same for all three stages)\n",
    "N = [20]\n",
    "knots = []\n",
    "stage_domain = cc.RadauFiniteElements(N=N, knots=knots)\n",
    "\n",
    "\n",
    "# Boundary conditions for each stage\n",
    "bcs1 = [cc.start_time(t0), cc.initial_condition(x0)]\n",
    "bcs2 = [cc.Constraint(terminal_constraint, 4)]\n",
    "\n",
    "# Define the problem in three stages\n",
    "stage1 = cc.OptimalControlProblem(\n",
    "    nx=nx,\n",
    "    nu=nu,\n",
    "    np=1,\n",
    "    ode=f,\n",
    "    quad=j,\n",
    "    cost=cost_stage1,\n",
    "    boundary_constraints=bcs1,\n",
    ")\n",
    "\n",
    "stage2 = cc.OptimalControlProblem(\n",
    "    nx=nx,\n",
    "    nu=nu,\n",
    "    np=1,\n",
    "    ode=f,\n",
    "    quad=j,\n",
    "    cost=cost_stage2,\n",
    "    boundary_constraints=bcs2,\n",
    ")\n",
    "\n",
    "# Define the full problem\n",
    "ocp = cc.MultiStageOptimalControlProblem(\n",
    "    stages=[stage1, stage2],\n",
    "    stage_constraints=[\n",
    "        cc.Constraint(stage_constraint, 4),\n",
    "    ],\n",
    ")\n",
    "\n",
    "\n",
    "domain = [stage_domain, stage_domain]\n",
    "\n",
    "# Linearly interpolate initial guess\n",
    "tf_guess = 5.0\n",
    "\n",
    "\n",
    "def x_guess(t):\n",
    "    return x0 + (t - t0) * (xf_guess - x0) / (tf_guess - t0)\n",
    "\n",
    "\n",
    "t_guess = np.linspace(t0, tf_guess, 3)\n",
    "sol = ocp.solve(domain, x_guess=x_guess, t_guess=t_guess)"
   ]
  },
  {
   "cell_type": "code",
   "execution_count": 43,
   "metadata": {},
   "outputs": [
    {
     "data": {
      "text/plain": [
       "(array([0.09544512]), array([0.08619984]))"
      ]
     },
     "execution_count": 43,
     "metadata": {},
     "output_type": "execute_result"
    }
   ],
   "source": [
    "sol[0].p, sol[1].p  # Should match the single-stage values exactly"
   ]
  },
  {
   "cell_type": "code",
   "execution_count": 44,
   "metadata": {},
   "outputs": [
    {
     "data": {
      "text/plain": [
       "np.float64(3.14159265358978)"
      ]
     },
     "execution_count": 44,
     "metadata": {},
     "output_type": "execute_result"
    }
   ],
   "source": [
    "sol[0].tf"
   ]
  },
  {
   "cell_type": "code",
   "execution_count": 45,
   "metadata": {},
   "outputs": [
    {
     "data": {
      "text/plain": [
       "Text(0.5, 0, '$t$')"
      ]
     },
     "execution_count": 45,
     "metadata": {},
     "output_type": "execute_result"
    },
    {
     "data": {
      "image/png": "[encoded data removed]",
      "text/plain": [
       "<Figure size 700x300 with 4 Axes>"
      ]
     },
     "metadata": {},
     "output_type": "display_data"
    }
   ],
   "source": [
    "fig, ax = plt.subplots(4, 1, figsize=(7, 3), sharex=True)\n",
    "\n",
    "for i in range(len(sol)):\n",
    "    t_plt = np.linspace(sol[i].t0, sol[i].tf, 100)\n",
    "    x_plt = sol[i].x(t_plt)\n",
    "\n",
    "    (l,) = ax[0].plot(t_plt, x_plt[:, 0])\n",
    "    ax[0].scatter(sol[i].tp, sol[i].xp[:, 0], s=10, c=l.get_color())\n",
    "\n",
    "    ax[1].plot(t_plt, x_plt[:, 1], c=l.get_color())\n",
    "    ax[1].scatter(sol[i].tp, sol[i].xp[:, 1], s=10, c=l.get_color())\n",
    "\n",
    "    ax[2].plot(t_plt, x_plt[:, 2], c=l.get_color())\n",
    "    ax[2].scatter(sol[i].tp, sol[i].xp[:, 2], s=10, c=l.get_color())\n",
    "\n",
    "    ax[3].plot(t_plt, x_plt[:, 3], c=l.get_color())\n",
    "    ax[3].scatter(sol[i].tp, sol[i].xp[:, 3], s=10, c=l.get_color())\n",
    "\n",
    "\n",
    "ax[0].grid()\n",
    "ax[0].set_ylabel(\"$r$\")\n",
    "ax[1].grid()\n",
    "ax[1].set_ylabel(r\"$\\theta$\")\n",
    "ax[2].grid()\n",
    "ax[2].set_ylabel(\"$u$\")\n",
    "ax[3].grid()\n",
    "ax[3].set_ylabel(\"$v$\")\n",
    "ax[3].set_xlabel(\"$t$\")"
   ]
  },
  {
   "cell_type": "code",
   "execution_count": 46,
   "metadata": {},
   "outputs": [
    {
     "data": {
      "image/png": "[encoded data removed]",
      "text/plain": [
       "<Figure size 400x400 with 1 Axes>"
      ]
     },
     "metadata": {},
     "output_type": "display_data"
    }
   ],
   "source": [
    "fig, ax = plt.subplots(1, 1, figsize=(4, 4))\n",
    "\n",
    "for i in range(len(sol)):\n",
    "    t_plt = np.linspace(sol[i].t0, sol[i].tf, 100)\n",
    "    x_plt = sol[i].x(t_plt)\n",
    "    r, θ = x_plt[:, 0], x_plt[:, 1]\n",
    "    x, y = r * np.cos(θ), r * np.sin(θ)\n",
    "\n",
    "    ax.plot(x, y, lw=2, c=\"xkcd:brick\")\n",
    "\n",
    "θ = np.linspace(0, 2 * np.pi, 1000)\n",
    "ax.plot(r0 * np.cos(θ), r0 * np.sin(θ), c=\"grey\", ls=\"--\")\n",
    "ax.plot(rf * np.cos(θ), rf * np.sin(θ), c=\"k\", ls=\"--\")\n",
    "\n",
    "ax.set_xlim([-1.2 * rf, 1.2 * rf])\n",
    "ax.set_ylim([-1.2 * rf, 1.2 * rf])\n",
    "ax.grid()\n",
    "plt.show()"
   ]
  },
  {
   "cell_type": "code",
   "execution_count": null,
   "metadata": {},
   "outputs": [],
   "source": []
  }
 ],
 "metadata": {
  "kernelspec": {
   "display_name": "archimedes",
   "language": "python",
   "name": "archimedes"
  },
  "language_info": {
   "codemirror_mode": {
    "name": "ipython",
    "version": 3
   },
   "file_extension": ".py",
   "mimetype": "text/x-python",
   "name": "python",
   "nbconvert_exporter": "python",
   "pygments_lexer": "ipython3",
   "version": "3.12.9"
  }
 },
 "nbformat": 4,
 "nbformat_minor": 2
}
